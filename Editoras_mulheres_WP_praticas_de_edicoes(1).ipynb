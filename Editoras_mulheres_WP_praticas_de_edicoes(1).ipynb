{
  "nbformat": 4,
  "nbformat_minor": 0,
  "metadata": {
    "colab": {
      "provenance": [],
      "collapsed_sections": [],
      "toc_visible": true
    },
    "kernelspec": {
      "name": "python3",
      "display_name": "Python 3"
    }
  },
  "cells": [
    {
      "cell_type": "markdown",
      "source": [
        "# **BASE DE DADOS  -  ESTIMATIVA DE QUANTITATIVO DE MULHERES EDITORAS E PRATICAS DE EDIÇÃO NA WIKIPÉDIA ESPANHOLA**"
      ],
      "metadata": {
        "id": "Zr1aBeXTftPF"
      }
    },
    {
      "cell_type": "markdown",
      "source": [
        "**Escola Politécnica de Pernambuco ‐  POLI / UPE Pós-Graduação lato sensu** \n",
        "\n",
        "**Especialização em Ciência de Dados e Analytics** \n",
        "\n",
        "**Disciplina:** Aprendizagem Supervisionada\n",
        "\n"
      ],
      "metadata": {
        "id": "yJz4lP0sefaK"
      }
    },
    {
      "cell_type": "code",
      "source": [
        "#@title IMPORTAÇÃO BIBLIOTECAS E MODULOS\n",
        "#1. Definicao das bibliotecas\n",
        "import pandas\n",
        "import matplotlib.pyplot as plt\n",
        "import numpy as np\n",
        "from scipy import stats\n",
        "from sklearn import model_selection\n",
        "from sklearn.model_selection import RepeatedStratifiedKFold\n",
        "from sklearn.model_selection import RandomizedSearchCV\n",
        "from sklearn import tree\n",
        "from sklearn.metrics import classification_report\n",
        "from sklearn.metrics import confusion_matrix\n",
        "from sklearn.tree import DecisionTreeClassifier\n",
        "from sklearn.ensemble import RandomForestClassifier\n",
        "from sklearn.neural_network import MLPClassifier\n",
        "from sklearn.ensemble import BaggingClassifier\n",
        "from sklearn.svm import SVC\n",
        "from sklearn.model_selection import StratifiedKFold\n",
        "from sklearn.model_selection import train_test_split\n",
        "from warnings import filterwarnings\n",
        "filterwarnings('ignore')\n",
        "\n",
        "\n",
        "\n"
      ],
      "metadata": {
        "id": "dLWNDgE4yRK0"
      },
      "execution_count": null,
      "outputs": []
    },
    {
      "cell_type": "markdown",
      "source": [
        "# **1- Leitura dos Dados:**"
      ],
      "metadata": {
        "id": "kina7jCPXjoU"
      }
    },
    {
      "cell_type": "code",
      "source": [
        "\n",
        "dataframe = pandas.read_csv('/content/data.csv',sep=',')\n",
        "dataframe"
      ],
      "metadata": {
        "colab": {
          "base_uri": "https://localhost:8080/",
          "height": 488
        },
        "id": "iJGVBpOWV-SK",
        "outputId": "10ea269a-cb9e-492d-f362-63bd3563d2fb"
      },
      "execution_count": null,
      "outputs": [
        {
          "output_type": "execute_result",
          "data": {
            "text/plain": [
              "      gender    C_api  C_man  E_NEds  E_Bpag        firstDay         lastDay  \\\n",
              "0          1     male      1       2       2  20170527205915  20170721044501   \n",
              "1          0  unknown      3       3       1  20110301072441  20170731213735   \n",
              "2          1     male      1       0       2  20060907204302  20140911191722   \n",
              "3          1     male      1       1       2  20121003144916  20121208180528   \n",
              "4          0  unknown      3       1       1  20070311125035  20141106121057   \n",
              "...      ...      ...    ...     ...     ...             ...             ...   \n",
              "4741       1     male      3       2       2  20120227100614  20170930073013   \n",
              "4742       0  unknown      3       3       1  20111108054659  20170906055641   \n",
              "4743       2  unknown      2       1       2  20120405102902  20170302073010   \n",
              "4744       2   female      3       3       2  20091014131349  20161112122730   \n",
              "4745       1  unknown      1       2       0  20050901045004  20151022222845   \n",
              "\n",
              "      NEds  NDays  NActDays  ...  NPcreated  pagesWomen  wikiprojWomen  \\\n",
              "0      543     56        43  ...          4           0              0   \n",
              "1     2764   2345       514  ...          7           0              0   \n",
              "2       57   2927        25  ...          0           0              0   \n",
              "3      104     67         5  ...          2           0              0   \n",
              "4      184   2798        27  ...          0           0              0   \n",
              "...    ...    ...       ...  ...        ...         ...            ...   \n",
              "4741   266   2043       155  ...          0           0              0   \n",
              "4742  1217   2130       381  ...          7           0              0   \n",
              "4743   122   1793        33  ...          7           0              0   \n",
              "4744   962   2587       307  ...          5           0              0   \n",
              "4745   284   3704        44  ...          0           0              0   \n",
              "\n",
              "      ns_user  ns_wikipedia  ns_talk  ns_userTalk  ns_content  weightIJ  NIJ  \n",
              "0          91            28        6           76         324  0.915024  978  \n",
              "1         100           249      183          646        1526  0.661673  477  \n",
              "2           3             0        1            3          49  0.800528  664  \n",
              "3          20             1        2            2          78  1.027717  841  \n",
              "4          26            10        5           24         112  0.997535  994  \n",
              "...       ...           ...      ...          ...         ...       ...  ...  \n",
              "4741        6             0        2            3         250  0.915024  978  \n",
              "4742       21             4       15           41         910  0.661673  477  \n",
              "4743        8             1        0            2         111  1.027717  841  \n",
              "4744       49           273       33          106         493  1.005227  817  \n",
              "4745       34           171        0           20          40  1.204403  647  \n",
              "\n",
              "[4746 rows x 21 columns]"
            ],
            "text/html": [
              "\n",
              "  <div id=\"df-0a6d4f83-3b85-45b4-9f3e-3beb3d83d1d5\">\n",
              "    <div class=\"colab-df-container\">\n",
              "      <div>\n",
              "<style scoped>\n",
              "    .dataframe tbody tr th:only-of-type {\n",
              "        vertical-align: middle;\n",
              "    }\n",
              "\n",
              "    .dataframe tbody tr th {\n",
              "        vertical-align: top;\n",
              "    }\n",
              "\n",
              "    .dataframe thead th {\n",
              "        text-align: right;\n",
              "    }\n",
              "</style>\n",
              "<table border=\"1\" class=\"dataframe\">\n",
              "  <thead>\n",
              "    <tr style=\"text-align: right;\">\n",
              "      <th></th>\n",
              "      <th>gender</th>\n",
              "      <th>C_api</th>\n",
              "      <th>C_man</th>\n",
              "      <th>E_NEds</th>\n",
              "      <th>E_Bpag</th>\n",
              "      <th>firstDay</th>\n",
              "      <th>lastDay</th>\n",
              "      <th>NEds</th>\n",
              "      <th>NDays</th>\n",
              "      <th>NActDays</th>\n",
              "      <th>...</th>\n",
              "      <th>NPcreated</th>\n",
              "      <th>pagesWomen</th>\n",
              "      <th>wikiprojWomen</th>\n",
              "      <th>ns_user</th>\n",
              "      <th>ns_wikipedia</th>\n",
              "      <th>ns_talk</th>\n",
              "      <th>ns_userTalk</th>\n",
              "      <th>ns_content</th>\n",
              "      <th>weightIJ</th>\n",
              "      <th>NIJ</th>\n",
              "    </tr>\n",
              "  </thead>\n",
              "  <tbody>\n",
              "    <tr>\n",
              "      <th>0</th>\n",
              "      <td>1</td>\n",
              "      <td>male</td>\n",
              "      <td>1</td>\n",
              "      <td>2</td>\n",
              "      <td>2</td>\n",
              "      <td>20170527205915</td>\n",
              "      <td>20170721044501</td>\n",
              "      <td>543</td>\n",
              "      <td>56</td>\n",
              "      <td>43</td>\n",
              "      <td>...</td>\n",
              "      <td>4</td>\n",
              "      <td>0</td>\n",
              "      <td>0</td>\n",
              "      <td>91</td>\n",
              "      <td>28</td>\n",
              "      <td>6</td>\n",
              "      <td>76</td>\n",
              "      <td>324</td>\n",
              "      <td>0.915024</td>\n",
              "      <td>978</td>\n",
              "    </tr>\n",
              "    <tr>\n",
              "      <th>1</th>\n",
              "      <td>0</td>\n",
              "      <td>unknown</td>\n",
              "      <td>3</td>\n",
              "      <td>3</td>\n",
              "      <td>1</td>\n",
              "      <td>20110301072441</td>\n",
              "      <td>20170731213735</td>\n",
              "      <td>2764</td>\n",
              "      <td>2345</td>\n",
              "      <td>514</td>\n",
              "      <td>...</td>\n",
              "      <td>7</td>\n",
              "      <td>0</td>\n",
              "      <td>0</td>\n",
              "      <td>100</td>\n",
              "      <td>249</td>\n",
              "      <td>183</td>\n",
              "      <td>646</td>\n",
              "      <td>1526</td>\n",
              "      <td>0.661673</td>\n",
              "      <td>477</td>\n",
              "    </tr>\n",
              "    <tr>\n",
              "      <th>2</th>\n",
              "      <td>1</td>\n",
              "      <td>male</td>\n",
              "      <td>1</td>\n",
              "      <td>0</td>\n",
              "      <td>2</td>\n",
              "      <td>20060907204302</td>\n",
              "      <td>20140911191722</td>\n",
              "      <td>57</td>\n",
              "      <td>2927</td>\n",
              "      <td>25</td>\n",
              "      <td>...</td>\n",
              "      <td>0</td>\n",
              "      <td>0</td>\n",
              "      <td>0</td>\n",
              "      <td>3</td>\n",
              "      <td>0</td>\n",
              "      <td>1</td>\n",
              "      <td>3</td>\n",
              "      <td>49</td>\n",
              "      <td>0.800528</td>\n",
              "      <td>664</td>\n",
              "    </tr>\n",
              "    <tr>\n",
              "      <th>3</th>\n",
              "      <td>1</td>\n",
              "      <td>male</td>\n",
              "      <td>1</td>\n",
              "      <td>1</td>\n",
              "      <td>2</td>\n",
              "      <td>20121003144916</td>\n",
              "      <td>20121208180528</td>\n",
              "      <td>104</td>\n",
              "      <td>67</td>\n",
              "      <td>5</td>\n",
              "      <td>...</td>\n",
              "      <td>2</td>\n",
              "      <td>0</td>\n",
              "      <td>0</td>\n",
              "      <td>20</td>\n",
              "      <td>1</td>\n",
              "      <td>2</td>\n",
              "      <td>2</td>\n",
              "      <td>78</td>\n",
              "      <td>1.027717</td>\n",
              "      <td>841</td>\n",
              "    </tr>\n",
              "    <tr>\n",
              "      <th>4</th>\n",
              "      <td>0</td>\n",
              "      <td>unknown</td>\n",
              "      <td>3</td>\n",
              "      <td>1</td>\n",
              "      <td>1</td>\n",
              "      <td>20070311125035</td>\n",
              "      <td>20141106121057</td>\n",
              "      <td>184</td>\n",
              "      <td>2798</td>\n",
              "      <td>27</td>\n",
              "      <td>...</td>\n",
              "      <td>0</td>\n",
              "      <td>0</td>\n",
              "      <td>0</td>\n",
              "      <td>26</td>\n",
              "      <td>10</td>\n",
              "      <td>5</td>\n",
              "      <td>24</td>\n",
              "      <td>112</td>\n",
              "      <td>0.997535</td>\n",
              "      <td>994</td>\n",
              "    </tr>\n",
              "    <tr>\n",
              "      <th>...</th>\n",
              "      <td>...</td>\n",
              "      <td>...</td>\n",
              "      <td>...</td>\n",
              "      <td>...</td>\n",
              "      <td>...</td>\n",
              "      <td>...</td>\n",
              "      <td>...</td>\n",
              "      <td>...</td>\n",
              "      <td>...</td>\n",
              "      <td>...</td>\n",
              "      <td>...</td>\n",
              "      <td>...</td>\n",
              "      <td>...</td>\n",
              "      <td>...</td>\n",
              "      <td>...</td>\n",
              "      <td>...</td>\n",
              "      <td>...</td>\n",
              "      <td>...</td>\n",
              "      <td>...</td>\n",
              "      <td>...</td>\n",
              "      <td>...</td>\n",
              "    </tr>\n",
              "    <tr>\n",
              "      <th>4741</th>\n",
              "      <td>1</td>\n",
              "      <td>male</td>\n",
              "      <td>3</td>\n",
              "      <td>2</td>\n",
              "      <td>2</td>\n",
              "      <td>20120227100614</td>\n",
              "      <td>20170930073013</td>\n",
              "      <td>266</td>\n",
              "      <td>2043</td>\n",
              "      <td>155</td>\n",
              "      <td>...</td>\n",
              "      <td>0</td>\n",
              "      <td>0</td>\n",
              "      <td>0</td>\n",
              "      <td>6</td>\n",
              "      <td>0</td>\n",
              "      <td>2</td>\n",
              "      <td>3</td>\n",
              "      <td>250</td>\n",
              "      <td>0.915024</td>\n",
              "      <td>978</td>\n",
              "    </tr>\n",
              "    <tr>\n",
              "      <th>4742</th>\n",
              "      <td>0</td>\n",
              "      <td>unknown</td>\n",
              "      <td>3</td>\n",
              "      <td>3</td>\n",
              "      <td>1</td>\n",
              "      <td>20111108054659</td>\n",
              "      <td>20170906055641</td>\n",
              "      <td>1217</td>\n",
              "      <td>2130</td>\n",
              "      <td>381</td>\n",
              "      <td>...</td>\n",
              "      <td>7</td>\n",
              "      <td>0</td>\n",
              "      <td>0</td>\n",
              "      <td>21</td>\n",
              "      <td>4</td>\n",
              "      <td>15</td>\n",
              "      <td>41</td>\n",
              "      <td>910</td>\n",
              "      <td>0.661673</td>\n",
              "      <td>477</td>\n",
              "    </tr>\n",
              "    <tr>\n",
              "      <th>4743</th>\n",
              "      <td>2</td>\n",
              "      <td>unknown</td>\n",
              "      <td>2</td>\n",
              "      <td>1</td>\n",
              "      <td>2</td>\n",
              "      <td>20120405102902</td>\n",
              "      <td>20170302073010</td>\n",
              "      <td>122</td>\n",
              "      <td>1793</td>\n",
              "      <td>33</td>\n",
              "      <td>...</td>\n",
              "      <td>7</td>\n",
              "      <td>0</td>\n",
              "      <td>0</td>\n",
              "      <td>8</td>\n",
              "      <td>1</td>\n",
              "      <td>0</td>\n",
              "      <td>2</td>\n",
              "      <td>111</td>\n",
              "      <td>1.027717</td>\n",
              "      <td>841</td>\n",
              "    </tr>\n",
              "    <tr>\n",
              "      <th>4744</th>\n",
              "      <td>2</td>\n",
              "      <td>female</td>\n",
              "      <td>3</td>\n",
              "      <td>3</td>\n",
              "      <td>2</td>\n",
              "      <td>20091014131349</td>\n",
              "      <td>20161112122730</td>\n",
              "      <td>962</td>\n",
              "      <td>2587</td>\n",
              "      <td>307</td>\n",
              "      <td>...</td>\n",
              "      <td>5</td>\n",
              "      <td>0</td>\n",
              "      <td>0</td>\n",
              "      <td>49</td>\n",
              "      <td>273</td>\n",
              "      <td>33</td>\n",
              "      <td>106</td>\n",
              "      <td>493</td>\n",
              "      <td>1.005227</td>\n",
              "      <td>817</td>\n",
              "    </tr>\n",
              "    <tr>\n",
              "      <th>4745</th>\n",
              "      <td>1</td>\n",
              "      <td>unknown</td>\n",
              "      <td>1</td>\n",
              "      <td>2</td>\n",
              "      <td>0</td>\n",
              "      <td>20050901045004</td>\n",
              "      <td>20151022222845</td>\n",
              "      <td>284</td>\n",
              "      <td>3704</td>\n",
              "      <td>44</td>\n",
              "      <td>...</td>\n",
              "      <td>0</td>\n",
              "      <td>0</td>\n",
              "      <td>0</td>\n",
              "      <td>34</td>\n",
              "      <td>171</td>\n",
              "      <td>0</td>\n",
              "      <td>20</td>\n",
              "      <td>40</td>\n",
              "      <td>1.204403</td>\n",
              "      <td>647</td>\n",
              "    </tr>\n",
              "  </tbody>\n",
              "</table>\n",
              "<p>4746 rows × 21 columns</p>\n",
              "</div>\n",
              "      <button class=\"colab-df-convert\" onclick=\"convertToInteractive('df-0a6d4f83-3b85-45b4-9f3e-3beb3d83d1d5')\"\n",
              "              title=\"Convert this dataframe to an interactive table.\"\n",
              "              style=\"display:none;\">\n",
              "        \n",
              "  <svg xmlns=\"http://www.w3.org/2000/svg\" height=\"24px\"viewBox=\"0 0 24 24\"\n",
              "       width=\"24px\">\n",
              "    <path d=\"M0 0h24v24H0V0z\" fill=\"none\"/>\n",
              "    <path d=\"M18.56 5.44l.94 2.06.94-2.06 2.06-.94-2.06-.94-.94-2.06-.94 2.06-2.06.94zm-11 1L8.5 8.5l.94-2.06 2.06-.94-2.06-.94L8.5 2.5l-.94 2.06-2.06.94zm10 10l.94 2.06.94-2.06 2.06-.94-2.06-.94-.94-2.06-.94 2.06-2.06.94z\"/><path d=\"M17.41 7.96l-1.37-1.37c-.4-.4-.92-.59-1.43-.59-.52 0-1.04.2-1.43.59L10.3 9.45l-7.72 7.72c-.78.78-.78 2.05 0 2.83L4 21.41c.39.39.9.59 1.41.59.51 0 1.02-.2 1.41-.59l7.78-7.78 2.81-2.81c.8-.78.8-2.07 0-2.86zM5.41 20L4 18.59l7.72-7.72 1.47 1.35L5.41 20z\"/>\n",
              "  </svg>\n",
              "      </button>\n",
              "      \n",
              "  <style>\n",
              "    .colab-df-container {\n",
              "      display:flex;\n",
              "      flex-wrap:wrap;\n",
              "      gap: 12px;\n",
              "    }\n",
              "\n",
              "    .colab-df-convert {\n",
              "      background-color: #E8F0FE;\n",
              "      border: none;\n",
              "      border-radius: 50%;\n",
              "      cursor: pointer;\n",
              "      display: none;\n",
              "      fill: #1967D2;\n",
              "      height: 32px;\n",
              "      padding: 0 0 0 0;\n",
              "      width: 32px;\n",
              "    }\n",
              "\n",
              "    .colab-df-convert:hover {\n",
              "      background-color: #E2EBFA;\n",
              "      box-shadow: 0px 1px 2px rgba(60, 64, 67, 0.3), 0px 1px 3px 1px rgba(60, 64, 67, 0.15);\n",
              "      fill: #174EA6;\n",
              "    }\n",
              "\n",
              "    [theme=dark] .colab-df-convert {\n",
              "      background-color: #3B4455;\n",
              "      fill: #D2E3FC;\n",
              "    }\n",
              "\n",
              "    [theme=dark] .colab-df-convert:hover {\n",
              "      background-color: #434B5C;\n",
              "      box-shadow: 0px 1px 3px 1px rgba(0, 0, 0, 0.15);\n",
              "      filter: drop-shadow(0px 1px 2px rgba(0, 0, 0, 0.3));\n",
              "      fill: #FFFFFF;\n",
              "    }\n",
              "  </style>\n",
              "\n",
              "      <script>\n",
              "        const buttonEl =\n",
              "          document.querySelector('#df-0a6d4f83-3b85-45b4-9f3e-3beb3d83d1d5 button.colab-df-convert');\n",
              "        buttonEl.style.display =\n",
              "          google.colab.kernel.accessAllowed ? 'block' : 'none';\n",
              "\n",
              "        async function convertToInteractive(key) {\n",
              "          const element = document.querySelector('#df-0a6d4f83-3b85-45b4-9f3e-3beb3d83d1d5');\n",
              "          const dataTable =\n",
              "            await google.colab.kernel.invokeFunction('convertToInteractive',\n",
              "                                                     [key], {});\n",
              "          if (!dataTable) return;\n",
              "\n",
              "          const docLinkHtml = 'Like what you see? Visit the ' +\n",
              "            '<a target=\"_blank\" href=https://colab.research.google.com/notebooks/data_table.ipynb>data table notebook</a>'\n",
              "            + ' to learn more about interactive tables.';\n",
              "          element.innerHTML = '';\n",
              "          dataTable['output_type'] = 'display_data';\n",
              "          await google.colab.output.renderOutput(dataTable, element);\n",
              "          const docLink = document.createElement('div');\n",
              "          docLink.innerHTML = docLinkHtml;\n",
              "          element.appendChild(docLink);\n",
              "        }\n",
              "      </script>\n",
              "    </div>\n",
              "  </div>\n",
              "  "
            ]
          },
          "metadata": {},
          "execution_count": 51
        }
      ]
    },
    {
      "cell_type": "markdown",
      "source": [
        "# **2-Análise Exploratória dos dados:**"
      ],
      "metadata": {
        "id": "qHLSZaLxXB6s"
      }
    },
    {
      "cell_type": "code",
      "source": [
        "#4. A analise exploratoria dos dados realizada em outro script\n",
        "dataframe['gender']=dataframe['gender'].astype(float)\n",
        "dataframe['C_api']=dataframe['C_api'].replace({'unknown':0,'male':1,'female':2})"
      ],
      "metadata": {
        "id": "gJX9wPo51Gm7"
      },
      "execution_count": null,
      "outputs": []
    },
    {
      "cell_type": "code",
      "source": [
        "dataframe.head()"
      ],
      "metadata": {
        "colab": {
          "base_uri": "https://localhost:8080/",
          "height": 299
        },
        "id": "cQRFX2Zf_EvQ",
        "outputId": "de8fae9a-4256-4b19-9ce3-3ed7fc517ba8"
      },
      "execution_count": null,
      "outputs": [
        {
          "output_type": "execute_result",
          "data": {
            "text/plain": [
              "   gender  C_api  C_man  E_NEds  E_Bpag        firstDay         lastDay  NEds  \\\n",
              "0     1.0      1      1       2       2  20170527205915  20170721044501   543   \n",
              "1     0.0      0      3       3       1  20110301072441  20170731213735  2764   \n",
              "2     1.0      1      1       0       2  20060907204302  20140911191722    57   \n",
              "3     1.0      1      1       1       2  20121003144916  20121208180528   104   \n",
              "4     0.0      0      3       1       1  20070311125035  20141106121057   184   \n",
              "\n",
              "   NDays  NActDays  ...  NPcreated  pagesWomen  wikiprojWomen  ns_user  \\\n",
              "0     56        43  ...          4           0              0       91   \n",
              "1   2345       514  ...          7           0              0      100   \n",
              "2   2927        25  ...          0           0              0        3   \n",
              "3     67         5  ...          2           0              0       20   \n",
              "4   2798        27  ...          0           0              0       26   \n",
              "\n",
              "   ns_wikipedia  ns_talk  ns_userTalk  ns_content  weightIJ  NIJ  \n",
              "0            28        6           76         324  0.915024  978  \n",
              "1           249      183          646        1526  0.661673  477  \n",
              "2             0        1            3          49  0.800528  664  \n",
              "3             1        2            2          78  1.027717  841  \n",
              "4            10        5           24         112  0.997535  994  \n",
              "\n",
              "[5 rows x 21 columns]"
            ],
            "text/html": [
              "\n",
              "  <div id=\"df-ddd24446-9796-49ba-bda1-76f842dd93d7\">\n",
              "    <div class=\"colab-df-container\">\n",
              "      <div>\n",
              "<style scoped>\n",
              "    .dataframe tbody tr th:only-of-type {\n",
              "        vertical-align: middle;\n",
              "    }\n",
              "\n",
              "    .dataframe tbody tr th {\n",
              "        vertical-align: top;\n",
              "    }\n",
              "\n",
              "    .dataframe thead th {\n",
              "        text-align: right;\n",
              "    }\n",
              "</style>\n",
              "<table border=\"1\" class=\"dataframe\">\n",
              "  <thead>\n",
              "    <tr style=\"text-align: right;\">\n",
              "      <th></th>\n",
              "      <th>gender</th>\n",
              "      <th>C_api</th>\n",
              "      <th>C_man</th>\n",
              "      <th>E_NEds</th>\n",
              "      <th>E_Bpag</th>\n",
              "      <th>firstDay</th>\n",
              "      <th>lastDay</th>\n",
              "      <th>NEds</th>\n",
              "      <th>NDays</th>\n",
              "      <th>NActDays</th>\n",
              "      <th>...</th>\n",
              "      <th>NPcreated</th>\n",
              "      <th>pagesWomen</th>\n",
              "      <th>wikiprojWomen</th>\n",
              "      <th>ns_user</th>\n",
              "      <th>ns_wikipedia</th>\n",
              "      <th>ns_talk</th>\n",
              "      <th>ns_userTalk</th>\n",
              "      <th>ns_content</th>\n",
              "      <th>weightIJ</th>\n",
              "      <th>NIJ</th>\n",
              "    </tr>\n",
              "  </thead>\n",
              "  <tbody>\n",
              "    <tr>\n",
              "      <th>0</th>\n",
              "      <td>1.0</td>\n",
              "      <td>1</td>\n",
              "      <td>1</td>\n",
              "      <td>2</td>\n",
              "      <td>2</td>\n",
              "      <td>20170527205915</td>\n",
              "      <td>20170721044501</td>\n",
              "      <td>543</td>\n",
              "      <td>56</td>\n",
              "      <td>43</td>\n",
              "      <td>...</td>\n",
              "      <td>4</td>\n",
              "      <td>0</td>\n",
              "      <td>0</td>\n",
              "      <td>91</td>\n",
              "      <td>28</td>\n",
              "      <td>6</td>\n",
              "      <td>76</td>\n",
              "      <td>324</td>\n",
              "      <td>0.915024</td>\n",
              "      <td>978</td>\n",
              "    </tr>\n",
              "    <tr>\n",
              "      <th>1</th>\n",
              "      <td>0.0</td>\n",
              "      <td>0</td>\n",
              "      <td>3</td>\n",
              "      <td>3</td>\n",
              "      <td>1</td>\n",
              "      <td>20110301072441</td>\n",
              "      <td>20170731213735</td>\n",
              "      <td>2764</td>\n",
              "      <td>2345</td>\n",
              "      <td>514</td>\n",
              "      <td>...</td>\n",
              "      <td>7</td>\n",
              "      <td>0</td>\n",
              "      <td>0</td>\n",
              "      <td>100</td>\n",
              "      <td>249</td>\n",
              "      <td>183</td>\n",
              "      <td>646</td>\n",
              "      <td>1526</td>\n",
              "      <td>0.661673</td>\n",
              "      <td>477</td>\n",
              "    </tr>\n",
              "    <tr>\n",
              "      <th>2</th>\n",
              "      <td>1.0</td>\n",
              "      <td>1</td>\n",
              "      <td>1</td>\n",
              "      <td>0</td>\n",
              "      <td>2</td>\n",
              "      <td>20060907204302</td>\n",
              "      <td>20140911191722</td>\n",
              "      <td>57</td>\n",
              "      <td>2927</td>\n",
              "      <td>25</td>\n",
              "      <td>...</td>\n",
              "      <td>0</td>\n",
              "      <td>0</td>\n",
              "      <td>0</td>\n",
              "      <td>3</td>\n",
              "      <td>0</td>\n",
              "      <td>1</td>\n",
              "      <td>3</td>\n",
              "      <td>49</td>\n",
              "      <td>0.800528</td>\n",
              "      <td>664</td>\n",
              "    </tr>\n",
              "    <tr>\n",
              "      <th>3</th>\n",
              "      <td>1.0</td>\n",
              "      <td>1</td>\n",
              "      <td>1</td>\n",
              "      <td>1</td>\n",
              "      <td>2</td>\n",
              "      <td>20121003144916</td>\n",
              "      <td>20121208180528</td>\n",
              "      <td>104</td>\n",
              "      <td>67</td>\n",
              "      <td>5</td>\n",
              "      <td>...</td>\n",
              "      <td>2</td>\n",
              "      <td>0</td>\n",
              "      <td>0</td>\n",
              "      <td>20</td>\n",
              "      <td>1</td>\n",
              "      <td>2</td>\n",
              "      <td>2</td>\n",
              "      <td>78</td>\n",
              "      <td>1.027717</td>\n",
              "      <td>841</td>\n",
              "    </tr>\n",
              "    <tr>\n",
              "      <th>4</th>\n",
              "      <td>0.0</td>\n",
              "      <td>0</td>\n",
              "      <td>3</td>\n",
              "      <td>1</td>\n",
              "      <td>1</td>\n",
              "      <td>20070311125035</td>\n",
              "      <td>20141106121057</td>\n",
              "      <td>184</td>\n",
              "      <td>2798</td>\n",
              "      <td>27</td>\n",
              "      <td>...</td>\n",
              "      <td>0</td>\n",
              "      <td>0</td>\n",
              "      <td>0</td>\n",
              "      <td>26</td>\n",
              "      <td>10</td>\n",
              "      <td>5</td>\n",
              "      <td>24</td>\n",
              "      <td>112</td>\n",
              "      <td>0.997535</td>\n",
              "      <td>994</td>\n",
              "    </tr>\n",
              "  </tbody>\n",
              "</table>\n",
              "<p>5 rows × 21 columns</p>\n",
              "</div>\n",
              "      <button class=\"colab-df-convert\" onclick=\"convertToInteractive('df-ddd24446-9796-49ba-bda1-76f842dd93d7')\"\n",
              "              title=\"Convert this dataframe to an interactive table.\"\n",
              "              style=\"display:none;\">\n",
              "        \n",
              "  <svg xmlns=\"http://www.w3.org/2000/svg\" height=\"24px\"viewBox=\"0 0 24 24\"\n",
              "       width=\"24px\">\n",
              "    <path d=\"M0 0h24v24H0V0z\" fill=\"none\"/>\n",
              "    <path d=\"M18.56 5.44l.94 2.06.94-2.06 2.06-.94-2.06-.94-.94-2.06-.94 2.06-2.06.94zm-11 1L8.5 8.5l.94-2.06 2.06-.94-2.06-.94L8.5 2.5l-.94 2.06-2.06.94zm10 10l.94 2.06.94-2.06 2.06-.94-2.06-.94-.94-2.06-.94 2.06-2.06.94z\"/><path d=\"M17.41 7.96l-1.37-1.37c-.4-.4-.92-.59-1.43-.59-.52 0-1.04.2-1.43.59L10.3 9.45l-7.72 7.72c-.78.78-.78 2.05 0 2.83L4 21.41c.39.39.9.59 1.41.59.51 0 1.02-.2 1.41-.59l7.78-7.78 2.81-2.81c.8-.78.8-2.07 0-2.86zM5.41 20L4 18.59l7.72-7.72 1.47 1.35L5.41 20z\"/>\n",
              "  </svg>\n",
              "      </button>\n",
              "      \n",
              "  <style>\n",
              "    .colab-df-container {\n",
              "      display:flex;\n",
              "      flex-wrap:wrap;\n",
              "      gap: 12px;\n",
              "    }\n",
              "\n",
              "    .colab-df-convert {\n",
              "      background-color: #E8F0FE;\n",
              "      border: none;\n",
              "      border-radius: 50%;\n",
              "      cursor: pointer;\n",
              "      display: none;\n",
              "      fill: #1967D2;\n",
              "      height: 32px;\n",
              "      padding: 0 0 0 0;\n",
              "      width: 32px;\n",
              "    }\n",
              "\n",
              "    .colab-df-convert:hover {\n",
              "      background-color: #E2EBFA;\n",
              "      box-shadow: 0px 1px 2px rgba(60, 64, 67, 0.3), 0px 1px 3px 1px rgba(60, 64, 67, 0.15);\n",
              "      fill: #174EA6;\n",
              "    }\n",
              "\n",
              "    [theme=dark] .colab-df-convert {\n",
              "      background-color: #3B4455;\n",
              "      fill: #D2E3FC;\n",
              "    }\n",
              "\n",
              "    [theme=dark] .colab-df-convert:hover {\n",
              "      background-color: #434B5C;\n",
              "      box-shadow: 0px 1px 3px 1px rgba(0, 0, 0, 0.15);\n",
              "      filter: drop-shadow(0px 1px 2px rgba(0, 0, 0, 0.3));\n",
              "      fill: #FFFFFF;\n",
              "    }\n",
              "  </style>\n",
              "\n",
              "      <script>\n",
              "        const buttonEl =\n",
              "          document.querySelector('#df-ddd24446-9796-49ba-bda1-76f842dd93d7 button.colab-df-convert');\n",
              "        buttonEl.style.display =\n",
              "          google.colab.kernel.accessAllowed ? 'block' : 'none';\n",
              "\n",
              "        async function convertToInteractive(key) {\n",
              "          const element = document.querySelector('#df-ddd24446-9796-49ba-bda1-76f842dd93d7');\n",
              "          const dataTable =\n",
              "            await google.colab.kernel.invokeFunction('convertToInteractive',\n",
              "                                                     [key], {});\n",
              "          if (!dataTable) return;\n",
              "\n",
              "          const docLinkHtml = 'Like what you see? Visit the ' +\n",
              "            '<a target=\"_blank\" href=https://colab.research.google.com/notebooks/data_table.ipynb>data table notebook</a>'\n",
              "            + ' to learn more about interactive tables.';\n",
              "          element.innerHTML = '';\n",
              "          dataTable['output_type'] = 'display_data';\n",
              "          await google.colab.output.renderOutput(dataTable, element);\n",
              "          const docLink = document.createElement('div');\n",
              "          docLink.innerHTML = docLinkHtml;\n",
              "          element.appendChild(docLink);\n",
              "        }\n",
              "      </script>\n",
              "    </div>\n",
              "  </div>\n",
              "  "
            ]
          },
          "metadata": {},
          "execution_count": 53
        }
      ]
    },
    {
      "cell_type": "markdown",
      "source": [
        "# **3 - EXPERIMENTO: APLICANDO OS MÉTODOS**\n"
      ],
      "metadata": {
        "id": "YwVUWPlEZMia"
      }
    },
    {
      "cell_type": "markdown",
      "source": [
        "## **Método K-NN**"
      ],
      "metadata": {
        "id": "fFudtglclWLU"
      }
    },
    {
      "cell_type": "code",
      "source": [
        "import pandas as pd\n",
        "from matplotlib import pyplot as plt\n",
        "from sklearn.model_selection import train_test_split\n",
        "from sklearn.preprocessing import MinMaxScaler\n",
        "from sklearn import neighbors\n",
        "from sklearn.model_selection import cross_val_score\n",
        "plt.rcParams['figure.figsize'] = [16, 10]"
      ],
      "metadata": {
        "id": "y40L9wG2ZRVO"
      },
      "execution_count": null,
      "outputs": []
    },
    {
      "cell_type": "code",
      "source": [
        "#divisao de dados atributos e classe\n",
        "X = dataframe.values[:, 0:dataframe.shape[1]-1] #caracteristicas\n",
        "Y = dataframe.values[:, dataframe.shape[1]-1] #classe\n",
        "\n",
        "X"
      ],
      "metadata": {
        "colab": {
          "base_uri": "https://localhost:8080/"
        },
        "id": "WAcOd58VZpWS",
        "outputId": "5e5fbc7c-ef3b-4775-998c-c3dbd3bc5c55"
      },
      "execution_count": null,
      "outputs": [
        {
          "output_type": "execute_result",
          "data": {
            "text/plain": [
              "array([[1.00000000e+00, 1.00000000e+00, 1.00000000e+00, ...,\n",
              "        7.60000000e+01, 3.24000000e+02, 9.15024129e-01],\n",
              "       [0.00000000e+00, 0.00000000e+00, 3.00000000e+00, ...,\n",
              "        6.46000000e+02, 1.52600000e+03, 6.61673180e-01],\n",
              "       [1.00000000e+00, 1.00000000e+00, 1.00000000e+00, ...,\n",
              "        3.00000000e+00, 4.90000000e+01, 8.00528377e-01],\n",
              "       ...,\n",
              "       [2.00000000e+00, 0.00000000e+00, 2.00000000e+00, ...,\n",
              "        2.00000000e+00, 1.11000000e+02, 1.02771710e+00],\n",
              "       [2.00000000e+00, 2.00000000e+00, 3.00000000e+00, ...,\n",
              "        1.06000000e+02, 4.93000000e+02, 1.00522695e+00],\n",
              "       [1.00000000e+00, 0.00000000e+00, 1.00000000e+00, ...,\n",
              "        2.00000000e+01, 4.00000000e+01, 1.20440316e+00]])"
            ]
          },
          "metadata": {},
          "execution_count": 55
        }
      ]
    },
    {
      "cell_type": "code",
      "source": [
        "scaler = MinMaxScaler()\n",
        "X = scaler.fit_transform(X)\n",
        "X"
      ],
      "metadata": {
        "colab": {
          "base_uri": "https://localhost:8080/"
        },
        "id": "elNetFHwb7Kx",
        "outputId": "1175ae55-4bcc-49e5-8816-e59dee7417d2"
      },
      "execution_count": null,
      "outputs": [
        {
          "output_type": "execute_result",
          "data": {
            "text/plain": [
              "array([[5.00000000e-01, 5.00000000e-01, 0.00000000e+00, ...,\n",
              "        6.15384615e-03, 2.80405376e-03, 3.46201675e-01],\n",
              "       [0.00000000e+00, 0.00000000e+00, 1.00000000e+00, ...,\n",
              "        5.23076923e-02, 1.32067470e-02, 1.71840376e-01],\n",
              "       [5.00000000e-01, 5.00000000e-01, 0.00000000e+00, ...,\n",
              "        2.42914980e-04, 4.24069859e-04, 2.67403360e-01],\n",
              "       ...,\n",
              "       [1.00000000e+00, 0.00000000e+00, 5.00000000e-01, ...,\n",
              "        1.61943320e-04, 9.60648048e-04, 4.23759277e-01],\n",
              "       [1.00000000e+00, 1.00000000e+00, 1.00000000e+00, ...,\n",
              "        8.58299595e-03, 4.26666205e-03, 4.08281095e-01],\n",
              "       [5.00000000e-01, 0.00000000e+00, 0.00000000e+00, ...,\n",
              "        1.61943320e-03, 3.46179477e-04, 5.45358237e-01]])"
            ]
          },
          "metadata": {},
          "execution_count": 56
        }
      ]
    },
    {
      "cell_type": "code",
      "source": [
        "#usando o metodo para fazer uma unica divisao dos dados\n",
        "X_train, X_test, y_train, y_test = train_test_split(X, Y, test_size = 0.25, random_state = 10)\n",
        "\n",
        "X_train_cv, X_valid, y_train_cv, y_valid = train_test_split(X_train, y_train, test_size = 0.25, random_state = 10)"
      ],
      "metadata": {
        "id": "RaVIVNt_b9lb"
      },
      "execution_count": null,
      "outputs": []
    },
    {
      "cell_type": "code",
      "source": [
        "k_range = range(1, 100) #k\n",
        "k_scores_train = []\n",
        "k_scores_train_full = []\n",
        "k_scores_valid = []\n",
        "\n",
        "# use iteration to caclulator different k in models, then return the average accuracy based on the cross validation\n",
        "for j in k_range:\n",
        "  knn = neighbors.KNeighborsClassifier(n_neighbors=j)\n",
        "  scores = cross_val_score(knn, X_train_cv, y_train_cv, cv=5, scoring='accuracy')\n",
        "  k_scores_train.append(scores.mean())\n",
        "  knn.fit(X_train_cv, y_train_cv)\n",
        "  k_scores_train_full.append(knn.score(X_train_cv, y_train_cv))\n",
        "  k_scores_valid.append(knn.score(X_valid, y_valid))\n",
        "\n",
        "# plot to see clearly\n",
        "plt.plot(list(range(1,len(k_scores_train)+1)), k_scores_train)\n",
        "plt.plot(list(range(1,len(k_scores_train_full)+1)), k_scores_train_full)\n",
        "plt.plot(list(range(1,len(k_scores_valid)+1)), k_scores_valid)\n",
        "plt.legend(('Validacao Cruzada', 'Treinamento', 'Validacao'),\n",
        "           loc='upper center', shadow=True)\n",
        "plt.xlabel('Value of K for KNN')\n",
        "plt.ylabel('Cross-Validated Accuracy')\n",
        "plt.show()"
      ],
      "metadata": {
        "colab": {
          "base_uri": "https://localhost:8080/",
          "height": 626
        },
        "id": "df-dW_P6cNL1",
        "outputId": "04f5f646-32e5-4074-b5a1-0532384011ed"
      },
      "execution_count": null,
      "outputs": [
        {
          "output_type": "display_data",
          "data": {
            "text/plain": [
              "<Figure size 1152x720 with 1 Axes>"
            ],
            "image/png": "[encoded data removed]"
          },
          "metadata": {
            "needs_background": "light"
          }
        }
      ]
    },
    {
      "cell_type": "code",
      "source": [
        "import pandas\n",
        "from sklearn.model_selection import train_test_split\n",
        "from sklearn import neighbors\n",
        "   \n",
        "\n",
        "print(\"Primeiros dados\")\n",
        "print(dataframe.head(5))\n",
        "\n",
        "#divisao de dados atributos e classe\n",
        "X = dataframe.values[:, 0:20]\n",
        "Y = dataframe.values[:,20]\n",
        "\n",
        "#usando o metodo para fazer uma unica divisao dos dados\n",
        "X_train, X_test, y_train, y_test = train_test_split( X, Y, test_size = 0.25, random_state = 10)\n",
        "\n",
        "# we create an instance of Neighbours Classifier and fit the data.\n",
        "clf = neighbors.KNeighborsClassifier(7)\n",
        "\n",
        "clf = clf.fit(X_train, y_train)\n",
        "\n",
        "print(\"Acuracia de trainamento clf: %0.3f\" %  clf.score(X_train, y_train))\n",
        "print(\"Acuracia de teste clf: %0.3f\" %  clf.score(X_test, y_test))\n",
        "       \n"
      ],
      "metadata": {
        "colab": {
          "base_uri": "https://localhost:8080/"
        },
        "id": "hGBxu541ogAI",
        "outputId": "f54b7d4f-3213-48a3-e153-cf62d4fefbed"
      },
      "execution_count": null,
      "outputs": [
        {
          "output_type": "stream",
          "name": "stdout",
          "text": [
            "Primeiros dados\n",
            "   gender  C_api  C_man  E_NEds  E_Bpag        firstDay         lastDay  NEds  \\\n",
            "0     1.0      1      1       2       2  20170527205915  20170721044501   543   \n",
            "1     0.0      0      3       3       1  20110301072441  20170731213735  2764   \n",
            "2     1.0      1      1       0       2  20060907204302  20140911191722    57   \n",
            "3     1.0      1      1       1       2  20121003144916  20121208180528   104   \n",
            "4     0.0      0      3       1       1  20070311125035  20141106121057   184   \n",
            "\n",
            "   NDays  NActDays  ...  NPcreated  pagesWomen  wikiprojWomen  ns_user  \\\n",
            "0     56        43  ...          4           0              0       91   \n",
            "1   2345       514  ...          7           0              0      100   \n",
            "2   2927        25  ...          0           0              0        3   \n",
            "3     67         5  ...          2           0              0       20   \n",
            "4   2798        27  ...          0           0              0       26   \n",
            "\n",
            "   ns_wikipedia  ns_talk  ns_userTalk  ns_content  weightIJ  NIJ  \n",
            "0            28        6           76         324  0.915024  978  \n",
            "1           249      183          646        1526  0.661673  477  \n",
            "2             0        1            3          49  0.800528  664  \n",
            "3             1        2            2          78  1.027717  841  \n",
            "4            10        5           24         112  0.997535  994  \n",
            "\n",
            "[5 rows x 21 columns]\n",
            "Acuracia de trainamento clf: 0.301\n",
            "Acuracia de teste clf: 0.097\n"
          ]
        }
      ]
    },
    {
      "cell_type": "markdown",
      "source": [
        "## **Método LVQ**"
      ],
      "metadata": {
        "id": "2i77uRaqduWi"
      }
    },
    {
      "cell_type": "code",
      "source": [
        "pip install neupy"
      ],
      "metadata": {
        "colab": {
          "base_uri": "https://localhost:8080/"
        },
        "id": "mvMxQFxUgeqS",
        "outputId": "be2168fc-fb55-4238-fe96-a619f24688e8"
      },
      "execution_count": null,
      "outputs": [
        {
          "output_type": "stream",
          "name": "stdout",
          "text": [
            "Looking in indexes: https://pypi.org/simple, https://us-python.pkg.dev/colab-wheels/public/simple/\n",
            "Collecting neupy\n",
            "  Downloading neupy-0.8.2-py2.py3-none-any.whl (226 kB)\n",
            "\u001b[K     |████████████████████████████████| 226 kB 8.5 MB/s \n",
            "\u001b[?25hRequirement already satisfied: h5py in /usr/local/lib/python3.7/dist-packages (from neupy) (3.1.0)\n",
            "Collecting tensorflow<1.14.0,>=1.10.1\n",
            "  Downloading tensorflow-1.13.2-cp37-cp37m-manylinux1_x86_64.whl (92.7 MB)\n",
            "\u001b[K     |████████████████████████████████| 92.7 MB 44 kB/s \n",
            "\u001b[?25hRequirement already satisfied: matplotlib>=1.5.1 in /usr/local/lib/python3.7/dist-packages (from neupy) (3.2.2)\n",
            "Requirement already satisfied: scipy>=0.19.0 in /usr/local/lib/python3.7/dist-packages (from neupy) (1.7.3)\n",
            "Collecting graphviz==0.5.1\n",
            "  Downloading graphviz-0.5.1-py2.py3-none-any.whl (14 kB)\n",
            "Collecting progressbar2==3.34.3\n",
            "  Downloading progressbar2-3.34.3-py2.py3-none-any.whl (25 kB)\n",
            "Requirement already satisfied: numpy>=1.13.3 in /usr/local/lib/python3.7/dist-packages (from neupy) (1.21.6)\n",
            "Requirement already satisfied: python-utils>=2.1.0 in /usr/local/lib/python3.7/dist-packages (from progressbar2==3.34.3->neupy) (3.3.3)\n",
            "Requirement already satisfied: kiwisolver>=1.0.1 in /usr/local/lib/python3.7/dist-packages (from matplotlib>=1.5.1->neupy) (1.4.4)\n",
            "Requirement already satisfied: python-dateutil>=2.1 in /usr/local/lib/python3.7/dist-packages (from matplotlib>=1.5.1->neupy) (2.8.2)\n",
            "Requirement already satisfied: cycler>=0.10 in /usr/local/lib/python3.7/dist-packages (from matplotlib>=1.5.1->neupy) (0.11.0)\n",
            "Requirement already satisfied: pyparsing!=2.0.4,!=2.1.2,!=2.1.6,>=2.0.1 in /usr/local/lib/python3.7/dist-packages (from matplotlib>=1.5.1->neupy) (3.0.9)\n",
            "Requirement already satisfied: typing-extensions in /usr/local/lib/python3.7/dist-packages (from kiwisolver>=1.0.1->matplotlib>=1.5.1->neupy) (4.1.1)\n",
            "Requirement already satisfied: six>=1.5 in /usr/local/lib/python3.7/dist-packages (from python-dateutil>=2.1->matplotlib>=1.5.1->neupy) (1.15.0)\n",
            "Requirement already satisfied: termcolor>=1.1.0 in /usr/local/lib/python3.7/dist-packages (from tensorflow<1.14.0,>=1.10.1->neupy) (2.0.1)\n",
            "Collecting tensorboard<1.14.0,>=1.13.0\n",
            "  Downloading tensorboard-1.13.1-py3-none-any.whl (3.2 MB)\n",
            "\u001b[K     |████████████████████████████████| 3.2 MB 38.4 MB/s \n",
            "\u001b[?25hRequirement already satisfied: wheel>=0.26 in /usr/local/lib/python3.7/dist-packages (from tensorflow<1.14.0,>=1.10.1->neupy) (0.37.1)\n",
            "Requirement already satisfied: absl-py>=0.1.6 in /usr/local/lib/python3.7/dist-packages (from tensorflow<1.14.0,>=1.10.1->neupy) (1.2.0)\n",
            "Requirement already satisfied: astor>=0.6.0 in /usr/local/lib/python3.7/dist-packages (from tensorflow<1.14.0,>=1.10.1->neupy) (0.8.1)\n",
            "Collecting keras-applications>=1.0.6\n",
            "  Downloading Keras_Applications-1.0.8-py3-none-any.whl (50 kB)\n",
            "\u001b[K     |████████████████████████████████| 50 kB 7.6 MB/s \n",
            "\u001b[?25hRequirement already satisfied: keras-preprocessing>=1.0.5 in /usr/local/lib/python3.7/dist-packages (from tensorflow<1.14.0,>=1.10.1->neupy) (1.1.2)\n",
            "Collecting tensorflow-estimator<1.14.0rc0,>=1.13.0\n",
            "  Downloading tensorflow_estimator-1.13.0-py2.py3-none-any.whl (367 kB)\n",
            "\u001b[K     |████████████████████████████████| 367 kB 45.7 MB/s \n",
            "\u001b[?25hRequirement already satisfied: grpcio>=1.8.6 in /usr/local/lib/python3.7/dist-packages (from tensorflow<1.14.0,>=1.10.1->neupy) (1.49.1)\n",
            "Requirement already satisfied: gast>=0.2.0 in /usr/local/lib/python3.7/dist-packages (from tensorflow<1.14.0,>=1.10.1->neupy) (0.5.3)\n",
            "Requirement already satisfied: protobuf>=3.6.1 in /usr/local/lib/python3.7/dist-packages (from tensorflow<1.14.0,>=1.10.1->neupy) (3.17.3)\n",
            "Requirement already satisfied: markdown>=2.6.8 in /usr/local/lib/python3.7/dist-packages (from tensorboard<1.14.0,>=1.13.0->tensorflow<1.14.0,>=1.10.1->neupy) (3.4.1)\n",
            "Requirement already satisfied: werkzeug>=0.11.15 in /usr/local/lib/python3.7/dist-packages (from tensorboard<1.14.0,>=1.13.0->tensorflow<1.14.0,>=1.10.1->neupy) (1.0.1)\n",
            "Requirement already satisfied: importlib-metadata>=4.4 in /usr/local/lib/python3.7/dist-packages (from markdown>=2.6.8->tensorboard<1.14.0,>=1.13.0->tensorflow<1.14.0,>=1.10.1->neupy) (5.0.0)\n",
            "Requirement already satisfied: zipp>=0.5 in /usr/local/lib/python3.7/dist-packages (from importlib-metadata>=4.4->markdown>=2.6.8->tensorboard<1.14.0,>=1.13.0->tensorflow<1.14.0,>=1.10.1->neupy) (3.8.1)\n",
            "Collecting mock>=2.0.0\n",
            "  Downloading mock-4.0.3-py3-none-any.whl (28 kB)\n",
            "Requirement already satisfied: cached-property in /usr/local/lib/python3.7/dist-packages (from h5py->neupy) (1.5.2)\n",
            "Installing collected packages: mock, tensorflow-estimator, tensorboard, keras-applications, tensorflow, progressbar2, graphviz, neupy\n",
            "  Attempting uninstall: tensorflow-estimator\n",
            "    Found existing installation: tensorflow-estimator 2.8.0\n",
            "    Uninstalling tensorflow-estimator-2.8.0:\n",
            "      Successfully uninstalled tensorflow-estimator-2.8.0\n",
            "  Attempting uninstall: tensorboard\n",
            "    Found existing installation: tensorboard 2.8.0\n",
            "    Uninstalling tensorboard-2.8.0:\n",
            "      Successfully uninstalled tensorboard-2.8.0\n",
            "  Attempting uninstall: tensorflow\n",
            "    Found existing installation: tensorflow 2.8.2+zzzcolab20220929150707\n",
            "    Uninstalling tensorflow-2.8.2+zzzcolab20220929150707:\n",
            "      Successfully uninstalled tensorflow-2.8.2+zzzcolab20220929150707\n",
            "  Attempting uninstall: progressbar2\n",
            "    Found existing installation: progressbar2 3.38.0\n",
            "    Uninstalling progressbar2-3.38.0:\n",
            "      Successfully uninstalled progressbar2-3.38.0\n",
            "  Attempting uninstall: graphviz\n",
            "    Found existing installation: graphviz 0.10.1\n",
            "    Uninstalling graphviz-0.10.1:\n",
            "      Successfully uninstalled graphviz-0.10.1\n",
            "\u001b[31mERROR: pip's dependency resolver does not currently take into account all the packages that are installed. This behaviour is the source of the following dependency conflicts.\n",
            "kapre 0.3.7 requires tensorflow>=2.0.0, but you have tensorflow 1.13.2 which is incompatible.\u001b[0m\n",
            "Successfully installed graphviz-0.5.1 keras-applications-1.0.8 mock-4.0.3 neupy-0.8.2 progressbar2-3.34.3 tensorboard-1.13.1 tensorflow-1.13.2 tensorflow-estimator-1.13.0\n"
          ]
        }
      ]
    },
    {
      "cell_type": "code",
      "source": [
        "import pandas as pd\n",
        "import numpy as np\n",
        "from matplotlib import pyplot as plt\n",
        "from sklearn.model_selection import train_test_split\n",
        "from sklearn.model_selection import cross_val_score\n",
        "from sklearn.preprocessing import LabelEncoder\n",
        "from neupy import algorithms\n",
        "from sklearn.metrics import accuracy_score\n",
        "from sklearn.preprocessing import MinMaxScaler\n",
        "plt.rcParams['figure.figsize'] = [16, 10]"
      ],
      "metadata": {
        "id": "O8r0PHK2jA1T"
      },
      "execution_count": null,
      "outputs": []
    },
    {
      "cell_type": "code",
      "source": [
        "# we create an instance of Neighbours Classifier and fit the data.\n",
        "p_range = range(7, 20)\n",
        "p_scores_train = []\n",
        "p_scores_train_full = []\n",
        "p_scores_valid = []\n",
        "\n",
        "# use iteration to caclulator different k in models, then return the average accuracy based on the cross validation\n",
        "for p in p_range:\n",
        "    lvqnet = algorithms.LVQ(n_inputs=16, n_classes=7, n_subclasses=p)\n",
        "    scores = cross_val_score(lvqnet, X_train_cv, y_train_cv, cv=5, scoring='accuracy')\n",
        "    p_scores_train.append(scores.mean())\n",
        "    lvqnet.train(X_train_cv, y_train_cv, epochs=20)\n",
        "    p_scores_train_full.append(accuracy_score(lvqnet.predict(X_train_cv), y_train_cv))\n",
        "    p_scores_valid.append(accuracy_score(lvqnet.predict(X_valid), y_valid))"
      ],
      "metadata": {
        "colab": {
          "base_uri": "https://localhost:8080/",
          "height": 408
        },
        "id": "RAe49ojbjHuK",
        "outputId": "350668bd-4b9b-4d79-ef06-74e8a2f320ec"
      },
      "execution_count": null,
      "outputs": [
        {
          "output_type": "error",
          "ename": "ValueError",
          "evalue": "ignored",
          "traceback": [
            "\u001b[0;31m---------------------------------------------------------------------------\u001b[0m",
            "\u001b[0;31mValueError\u001b[0m                                Traceback (most recent call last)",
            "\u001b[0;32m<ipython-input-36-3b759437c9d6>\u001b[0m in \u001b[0;36m<module>\u001b[0;34m\u001b[0m\n\u001b[1;32m     10\u001b[0m     \u001b[0mscores\u001b[0m \u001b[0;34m=\u001b[0m \u001b[0mcross_val_score\u001b[0m\u001b[0;34m(\u001b[0m\u001b[0mlvqnet\u001b[0m\u001b[0;34m,\u001b[0m \u001b[0mX_train_cv\u001b[0m\u001b[0;34m,\u001b[0m \u001b[0my_train_cv\u001b[0m\u001b[0;34m,\u001b[0m \u001b[0mcv\u001b[0m\u001b[0;34m=\u001b[0m\u001b[0;36m5\u001b[0m\u001b[0;34m,\u001b[0m \u001b[0mscoring\u001b[0m\u001b[0;34m=\u001b[0m\u001b[0;34m'accuracy'\u001b[0m\u001b[0;34m)\u001b[0m\u001b[0;34m\u001b[0m\u001b[0;34m\u001b[0m\u001b[0m\n\u001b[1;32m     11\u001b[0m     \u001b[0mp_scores_train\u001b[0m\u001b[0;34m.\u001b[0m\u001b[0mappend\u001b[0m\u001b[0;34m(\u001b[0m\u001b[0mscores\u001b[0m\u001b[0;34m.\u001b[0m\u001b[0mmean\u001b[0m\u001b[0;34m(\u001b[0m\u001b[0;34m)\u001b[0m\u001b[0;34m)\u001b[0m\u001b[0;34m\u001b[0m\u001b[0;34m\u001b[0m\u001b[0m\n\u001b[0;32m---> 12\u001b[0;31m     \u001b[0mlvqnet\u001b[0m\u001b[0;34m.\u001b[0m\u001b[0mtrain\u001b[0m\u001b[0;34m(\u001b[0m\u001b[0mX_train_cv\u001b[0m\u001b[0;34m,\u001b[0m \u001b[0my_train_cv\u001b[0m\u001b[0;34m,\u001b[0m \u001b[0mepochs\u001b[0m\u001b[0;34m=\u001b[0m\u001b[0;36m20\u001b[0m\u001b[0;34m)\u001b[0m\u001b[0;34m\u001b[0m\u001b[0;34m\u001b[0m\u001b[0m\n\u001b[0m\u001b[1;32m     13\u001b[0m     \u001b[0mp_scores_train_full\u001b[0m\u001b[0;34m.\u001b[0m\u001b[0mappend\u001b[0m\u001b[0;34m(\u001b[0m\u001b[0maccuracy_score\u001b[0m\u001b[0;34m(\u001b[0m\u001b[0mlvqnet\u001b[0m\u001b[0;34m.\u001b[0m\u001b[0mpredict\u001b[0m\u001b[0;34m(\u001b[0m\u001b[0mX_train_cv\u001b[0m\u001b[0;34m)\u001b[0m\u001b[0;34m,\u001b[0m \u001b[0my_train_cv\u001b[0m\u001b[0;34m)\u001b[0m\u001b[0;34m)\u001b[0m\u001b[0;34m\u001b[0m\u001b[0;34m\u001b[0m\u001b[0m\n\u001b[1;32m     14\u001b[0m     \u001b[0mp_scores_valid\u001b[0m\u001b[0;34m.\u001b[0m\u001b[0mappend\u001b[0m\u001b[0;34m(\u001b[0m\u001b[0maccuracy_score\u001b[0m\u001b[0;34m(\u001b[0m\u001b[0mlvqnet\u001b[0m\u001b[0;34m.\u001b[0m\u001b[0mpredict\u001b[0m\u001b[0;34m(\u001b[0m\u001b[0mX_valid\u001b[0m\u001b[0;34m)\u001b[0m\u001b[0;34m,\u001b[0m \u001b[0my_valid\u001b[0m\u001b[0;34m)\u001b[0m\u001b[0;34m)\u001b[0m\u001b[0;34m\u001b[0m\u001b[0;34m\u001b[0m\u001b[0m\n",
            "\u001b[0;32m/usr/local/lib/python3.7/dist-packages/neupy/algorithms/competitive/lvq.py\u001b[0m in \u001b[0;36mtrain\u001b[0;34m(self, X_train, y_train, *args, **kwargs)\u001b[0m\n\u001b[1;32m    248\u001b[0m                     \u001b[0;34m\"All classes should be integers from the range [0, {}], \"\u001b[0m\u001b[0;34m\u001b[0m\u001b[0;34m\u001b[0m\u001b[0m\n\u001b[1;32m    249\u001b[0m                     \u001b[0;34m\"but got the following classes instead {}\"\u001b[0m\u001b[0;34m\u001b[0m\u001b[0;34m\u001b[0m\u001b[0m\n\u001b[0;32m--> 250\u001b[0;31m                     \"\".format(self.n_classes - 1, target_classes))\n\u001b[0m\u001b[1;32m    251\u001b[0m \u001b[0;34m\u001b[0m\u001b[0m\n\u001b[1;32m    252\u001b[0m             \u001b[0mweights\u001b[0m \u001b[0;34m=\u001b[0m \u001b[0;34m[\u001b[0m\u001b[0;34m]\u001b[0m\u001b[0;34m\u001b[0m\u001b[0;34m\u001b[0m\u001b[0m\n",
            "\u001b[0;31mValueError\u001b[0m: All classes should be integers from the range [0, 6], but got the following classes instead [297, 412, 477, 493, 647, 664, 752, 817, 841, 917, 974, 978, 994, 1074, 1277, 1596]"
          ]
        }
      ]
    },
    {
      "cell_type": "code",
      "source": [
        "# plot to see clearly\n",
        "plt.plot(p_range, p_scores_train)\n",
        "plt.plot(p_range, p_scores_train_full)\n",
        "plt.plot(p_range, p_scores_valid)\n",
        "plt.legend(('Validacao Cruzada', 'Treinamento', 'Validacao'),\n",
        "           loc='upper center', shadow=True)\n",
        "plt.xlabel('Number of centroids for LVQ')\n",
        "plt.ylabel('Cross-Validated Accuracy')\n",
        "plt.show()"
      ],
      "metadata": {
        "colab": {
          "base_uri": "https://localhost:8080/",
          "height": 886
        },
        "id": "GvCXDYxSkm7k",
        "outputId": "0dc3c1c4-d877-46bc-9521-ed8aa1e43e73"
      },
      "execution_count": null,
      "outputs": [
        {
          "output_type": "error",
          "ename": "ValueError",
          "evalue": "ignored",
          "traceback": [
            "\u001b[0;31m---------------------------------------------------------------------------\u001b[0m",
            "\u001b[0;31mValueError\u001b[0m                                Traceback (most recent call last)",
            "\u001b[0;32m<ipython-input-37-6291c1f494b8>\u001b[0m in \u001b[0;36m<module>\u001b[0;34m\u001b[0m\n\u001b[1;32m      1\u001b[0m \u001b[0;31m# plot to see clearly\u001b[0m\u001b[0;34m\u001b[0m\u001b[0;34m\u001b[0m\u001b[0;34m\u001b[0m\u001b[0m\n\u001b[0;32m----> 2\u001b[0;31m \u001b[0mplt\u001b[0m\u001b[0;34m.\u001b[0m\u001b[0mplot\u001b[0m\u001b[0;34m(\u001b[0m\u001b[0mp_range\u001b[0m\u001b[0;34m,\u001b[0m \u001b[0mp_scores_train\u001b[0m\u001b[0;34m)\u001b[0m\u001b[0;34m\u001b[0m\u001b[0;34m\u001b[0m\u001b[0m\n\u001b[0m\u001b[1;32m      3\u001b[0m \u001b[0mplt\u001b[0m\u001b[0;34m.\u001b[0m\u001b[0mplot\u001b[0m\u001b[0;34m(\u001b[0m\u001b[0mp_range\u001b[0m\u001b[0;34m,\u001b[0m \u001b[0mp_scores_train_full\u001b[0m\u001b[0;34m)\u001b[0m\u001b[0;34m\u001b[0m\u001b[0;34m\u001b[0m\u001b[0m\n\u001b[1;32m      4\u001b[0m \u001b[0mplt\u001b[0m\u001b[0;34m.\u001b[0m\u001b[0mplot\u001b[0m\u001b[0;34m(\u001b[0m\u001b[0mp_range\u001b[0m\u001b[0;34m,\u001b[0m \u001b[0mp_scores_valid\u001b[0m\u001b[0;34m)\u001b[0m\u001b[0;34m\u001b[0m\u001b[0;34m\u001b[0m\u001b[0m\n\u001b[1;32m      5\u001b[0m plt.legend(('Validacao Cruzada', 'Treinamento', 'Validacao'),\n",
            "\u001b[0;32m/usr/local/lib/python3.7/dist-packages/matplotlib/pyplot.py\u001b[0m in \u001b[0;36mplot\u001b[0;34m(scalex, scaley, data, *args, **kwargs)\u001b[0m\n\u001b[1;32m   2761\u001b[0m     return gca().plot(\n\u001b[1;32m   2762\u001b[0m         *args, scalex=scalex, scaley=scaley, **({\"data\": data} if data\n\u001b[0;32m-> 2763\u001b[0;31m         is not None else {}), **kwargs)\n\u001b[0m\u001b[1;32m   2764\u001b[0m \u001b[0;34m\u001b[0m\u001b[0m\n\u001b[1;32m   2765\u001b[0m \u001b[0;34m\u001b[0m\u001b[0m\n",
            "\u001b[0;32m/usr/local/lib/python3.7/dist-packages/matplotlib/axes/_axes.py\u001b[0m in \u001b[0;36mplot\u001b[0;34m(self, scalex, scaley, data, *args, **kwargs)\u001b[0m\n\u001b[1;32m   1645\u001b[0m         \"\"\"\n\u001b[1;32m   1646\u001b[0m         \u001b[0mkwargs\u001b[0m \u001b[0;34m=\u001b[0m \u001b[0mcbook\u001b[0m\u001b[0;34m.\u001b[0m\u001b[0mnormalize_kwargs\u001b[0m\u001b[0;34m(\u001b[0m\u001b[0mkwargs\u001b[0m\u001b[0;34m,\u001b[0m \u001b[0mmlines\u001b[0m\u001b[0;34m.\u001b[0m\u001b[0mLine2D\u001b[0m\u001b[0;34m)\u001b[0m\u001b[0;34m\u001b[0m\u001b[0;34m\u001b[0m\u001b[0m\n\u001b[0;32m-> 1647\u001b[0;31m         \u001b[0mlines\u001b[0m \u001b[0;34m=\u001b[0m \u001b[0;34m[\u001b[0m\u001b[0;34m*\u001b[0m\u001b[0mself\u001b[0m\u001b[0;34m.\u001b[0m\u001b[0m_get_lines\u001b[0m\u001b[0;34m(\u001b[0m\u001b[0;34m*\u001b[0m\u001b[0margs\u001b[0m\u001b[0;34m,\u001b[0m \u001b[0mdata\u001b[0m\u001b[0;34m=\u001b[0m\u001b[0mdata\u001b[0m\u001b[0;34m,\u001b[0m \u001b[0;34m**\u001b[0m\u001b[0mkwargs\u001b[0m\u001b[0;34m)\u001b[0m\u001b[0;34m]\u001b[0m\u001b[0;34m\u001b[0m\u001b[0;34m\u001b[0m\u001b[0m\n\u001b[0m\u001b[1;32m   1648\u001b[0m         \u001b[0;32mfor\u001b[0m \u001b[0mline\u001b[0m \u001b[0;32min\u001b[0m \u001b[0mlines\u001b[0m\u001b[0;34m:\u001b[0m\u001b[0;34m\u001b[0m\u001b[0;34m\u001b[0m\u001b[0m\n\u001b[1;32m   1649\u001b[0m             \u001b[0mself\u001b[0m\u001b[0;34m.\u001b[0m\u001b[0madd_line\u001b[0m\u001b[0;34m(\u001b[0m\u001b[0mline\u001b[0m\u001b[0;34m)\u001b[0m\u001b[0;34m\u001b[0m\u001b[0;34m\u001b[0m\u001b[0m\n",
            "\u001b[0;32m/usr/local/lib/python3.7/dist-packages/matplotlib/axes/_base.py\u001b[0m in \u001b[0;36m__call__\u001b[0;34m(self, *args, **kwargs)\u001b[0m\n\u001b[1;32m    214\u001b[0m                 \u001b[0mthis\u001b[0m \u001b[0;34m+=\u001b[0m \u001b[0margs\u001b[0m\u001b[0;34m[\u001b[0m\u001b[0;36m0\u001b[0m\u001b[0;34m]\u001b[0m\u001b[0;34m,\u001b[0m\u001b[0;34m\u001b[0m\u001b[0;34m\u001b[0m\u001b[0m\n\u001b[1;32m    215\u001b[0m                 \u001b[0margs\u001b[0m \u001b[0;34m=\u001b[0m \u001b[0margs\u001b[0m\u001b[0;34m[\u001b[0m\u001b[0;36m1\u001b[0m\u001b[0;34m:\u001b[0m\u001b[0;34m]\u001b[0m\u001b[0;34m\u001b[0m\u001b[0;34m\u001b[0m\u001b[0m\n\u001b[0;32m--> 216\u001b[0;31m             \u001b[0;32myield\u001b[0m \u001b[0;32mfrom\u001b[0m \u001b[0mself\u001b[0m\u001b[0;34m.\u001b[0m\u001b[0m_plot_args\u001b[0m\u001b[0;34m(\u001b[0m\u001b[0mthis\u001b[0m\u001b[0;34m,\u001b[0m \u001b[0mkwargs\u001b[0m\u001b[0;34m)\u001b[0m\u001b[0;34m\u001b[0m\u001b[0;34m\u001b[0m\u001b[0m\n\u001b[0m\u001b[1;32m    217\u001b[0m \u001b[0;34m\u001b[0m\u001b[0m\n\u001b[1;32m    218\u001b[0m     \u001b[0;32mdef\u001b[0m \u001b[0mget_next_color\u001b[0m\u001b[0;34m(\u001b[0m\u001b[0mself\u001b[0m\u001b[0;34m)\u001b[0m\u001b[0;34m:\u001b[0m\u001b[0;34m\u001b[0m\u001b[0;34m\u001b[0m\u001b[0m\n",
            "\u001b[0;32m/usr/local/lib/python3.7/dist-packages/matplotlib/axes/_base.py\u001b[0m in \u001b[0;36m_plot_args\u001b[0;34m(self, tup, kwargs)\u001b[0m\n\u001b[1;32m    340\u001b[0m \u001b[0;34m\u001b[0m\u001b[0m\n\u001b[1;32m    341\u001b[0m         \u001b[0;32mif\u001b[0m \u001b[0mx\u001b[0m\u001b[0;34m.\u001b[0m\u001b[0mshape\u001b[0m\u001b[0;34m[\u001b[0m\u001b[0;36m0\u001b[0m\u001b[0;34m]\u001b[0m \u001b[0;34m!=\u001b[0m \u001b[0my\u001b[0m\u001b[0;34m.\u001b[0m\u001b[0mshape\u001b[0m\u001b[0;34m[\u001b[0m\u001b[0;36m0\u001b[0m\u001b[0;34m]\u001b[0m\u001b[0;34m:\u001b[0m\u001b[0;34m\u001b[0m\u001b[0;34m\u001b[0m\u001b[0m\n\u001b[0;32m--> 342\u001b[0;31m             raise ValueError(f\"x and y must have same first dimension, but \"\n\u001b[0m\u001b[1;32m    343\u001b[0m                              f\"have shapes {x.shape} and {y.shape}\")\n\u001b[1;32m    344\u001b[0m         \u001b[0;32mif\u001b[0m \u001b[0mx\u001b[0m\u001b[0;34m.\u001b[0m\u001b[0mndim\u001b[0m \u001b[0;34m>\u001b[0m \u001b[0;36m2\u001b[0m \u001b[0;32mor\u001b[0m \u001b[0my\u001b[0m\u001b[0;34m.\u001b[0m\u001b[0mndim\u001b[0m \u001b[0;34m>\u001b[0m \u001b[0;36m2\u001b[0m\u001b[0;34m:\u001b[0m\u001b[0;34m\u001b[0m\u001b[0;34m\u001b[0m\u001b[0m\n",
            "\u001b[0;31mValueError\u001b[0m: x and y must have same first dimension, but have shapes (13,) and (1,)"
          ]
        },
        {
          "output_type": "display_data",
          "data": {
            "text/plain": [
              "<Figure size 1152x720 with 1 Axes>"
            ],
            "image/png": "[encoded data removed]"
          },
          "metadata": {
            "needs_background": "light"
          }
        }
      ]
    },
    {
      "cell_type": "code",
      "source": [
        "lvqnet = algorithms.LVQ(n_inputs=16, n_classes=7, n_subclasses=11)\n",
        "lvqnet.train(X_train, y_train, epochs=20)\n",
        "\n",
        "print(\"Acuracia de treinamento clf: %0.3f\" %  accuracy_score(lvqnet.predict(X_train),y_train))\n",
        "print(\"Acuracia de teste clf: %0.3f\" %  accuracy_score(lvqnet.predict(X_test), y_test))"
      ],
      "metadata": {
        "colab": {
          "base_uri": "https://localhost:8080/",
          "height": 408
        },
        "id": "1foddebHlAFn",
        "outputId": "5754b56d-b80f-41ed-8d2c-b83fe56a787f"
      },
      "execution_count": null,
      "outputs": [
        {
          "output_type": "error",
          "ename": "ValueError",
          "evalue": "ignored",
          "traceback": [
            "\u001b[0;31m---------------------------------------------------------------------------\u001b[0m",
            "\u001b[0;31mValueError\u001b[0m                                Traceback (most recent call last)",
            "\u001b[0;32m<ipython-input-38-652f338cfa4b>\u001b[0m in \u001b[0;36m<module>\u001b[0;34m\u001b[0m\n\u001b[1;32m      1\u001b[0m \u001b[0mlvqnet\u001b[0m \u001b[0;34m=\u001b[0m \u001b[0malgorithms\u001b[0m\u001b[0;34m.\u001b[0m\u001b[0mLVQ\u001b[0m\u001b[0;34m(\u001b[0m\u001b[0mn_inputs\u001b[0m\u001b[0;34m=\u001b[0m\u001b[0;36m16\u001b[0m\u001b[0;34m,\u001b[0m \u001b[0mn_classes\u001b[0m\u001b[0;34m=\u001b[0m\u001b[0;36m7\u001b[0m\u001b[0;34m,\u001b[0m \u001b[0mn_subclasses\u001b[0m\u001b[0;34m=\u001b[0m\u001b[0;36m11\u001b[0m\u001b[0;34m)\u001b[0m\u001b[0;34m\u001b[0m\u001b[0;34m\u001b[0m\u001b[0m\n\u001b[0;32m----> 2\u001b[0;31m \u001b[0mlvqnet\u001b[0m\u001b[0;34m.\u001b[0m\u001b[0mtrain\u001b[0m\u001b[0;34m(\u001b[0m\u001b[0mX_train\u001b[0m\u001b[0;34m,\u001b[0m \u001b[0my_train\u001b[0m\u001b[0;34m,\u001b[0m \u001b[0mepochs\u001b[0m\u001b[0;34m=\u001b[0m\u001b[0;36m20\u001b[0m\u001b[0;34m)\u001b[0m\u001b[0;34m\u001b[0m\u001b[0;34m\u001b[0m\u001b[0m\n\u001b[0m\u001b[1;32m      3\u001b[0m \u001b[0;34m\u001b[0m\u001b[0m\n\u001b[1;32m      4\u001b[0m \u001b[0mprint\u001b[0m\u001b[0;34m(\u001b[0m\u001b[0;34m\"Acuracia de treinamento clf: %0.3f\"\u001b[0m \u001b[0;34m%\u001b[0m  \u001b[0maccuracy_score\u001b[0m\u001b[0;34m(\u001b[0m\u001b[0mlvqnet\u001b[0m\u001b[0;34m.\u001b[0m\u001b[0mpredict\u001b[0m\u001b[0;34m(\u001b[0m\u001b[0mX_train\u001b[0m\u001b[0;34m)\u001b[0m\u001b[0;34m,\u001b[0m\u001b[0my_train\u001b[0m\u001b[0;34m)\u001b[0m\u001b[0;34m)\u001b[0m\u001b[0;34m\u001b[0m\u001b[0;34m\u001b[0m\u001b[0m\n\u001b[1;32m      5\u001b[0m \u001b[0mprint\u001b[0m\u001b[0;34m(\u001b[0m\u001b[0;34m\"Acuracia de teste clf: %0.3f\"\u001b[0m \u001b[0;34m%\u001b[0m  \u001b[0maccuracy_score\u001b[0m\u001b[0;34m(\u001b[0m\u001b[0mlvqnet\u001b[0m\u001b[0;34m.\u001b[0m\u001b[0mpredict\u001b[0m\u001b[0;34m(\u001b[0m\u001b[0mX_test\u001b[0m\u001b[0;34m)\u001b[0m\u001b[0;34m,\u001b[0m \u001b[0my_test\u001b[0m\u001b[0;34m)\u001b[0m\u001b[0;34m)\u001b[0m\u001b[0;34m\u001b[0m\u001b[0;34m\u001b[0m\u001b[0m\n",
            "\u001b[0;32m/usr/local/lib/python3.7/dist-packages/neupy/algorithms/competitive/lvq.py\u001b[0m in \u001b[0;36mtrain\u001b[0;34m(self, X_train, y_train, *args, **kwargs)\u001b[0m\n\u001b[1;32m    248\u001b[0m                     \u001b[0;34m\"All classes should be integers from the range [0, {}], \"\u001b[0m\u001b[0;34m\u001b[0m\u001b[0;34m\u001b[0m\u001b[0m\n\u001b[1;32m    249\u001b[0m                     \u001b[0;34m\"but got the following classes instead {}\"\u001b[0m\u001b[0;34m\u001b[0m\u001b[0;34m\u001b[0m\u001b[0m\n\u001b[0;32m--> 250\u001b[0;31m                     \"\".format(self.n_classes - 1, target_classes))\n\u001b[0m\u001b[1;32m    251\u001b[0m \u001b[0;34m\u001b[0m\u001b[0m\n\u001b[1;32m    252\u001b[0m             \u001b[0mweights\u001b[0m \u001b[0;34m=\u001b[0m \u001b[0;34m[\u001b[0m\u001b[0;34m]\u001b[0m\u001b[0;34m\u001b[0m\u001b[0;34m\u001b[0m\u001b[0m\n",
            "\u001b[0;31mValueError\u001b[0m: All classes should be integers from the range [0, 6], but got the following classes instead [297, 412, 477, 493, 647, 664, 752, 817, 841, 917, 974, 978, 994, 1074, 1277, 1596]"
          ]
        }
      ]
    },
    {
      "cell_type": "markdown",
      "source": [
        "## **Método Árvore de decisão simples**"
      ],
      "metadata": {
        "id": "81mJjMhvmKYW"
      }
    },
    {
      "cell_type": "code",
      "source": [
        "pip install dtreeviz"
      ],
      "metadata": {
        "colab": {
          "base_uri": "https://localhost:8080/",
          "height": 910
        },
        "id": "Ix40qBAumiTa",
        "outputId": "9a716e50-de7d-4e7d-b06a-818012dfcc9b"
      },
      "execution_count": null,
      "outputs": [
        {
          "output_type": "stream",
          "name": "stdout",
          "text": [
            "Looking in indexes: https://pypi.org/simple, https://us-python.pkg.dev/colab-wheels/public/simple/\n",
            "Collecting dtreeviz\n",
            "  Downloading dtreeviz-1.3.7.tar.gz (62 kB)\n",
            "\u001b[K     |████████████████████████████████| 62 kB 1.2 MB/s \n",
            "\u001b[?25hCollecting graphviz>=0.9\n",
            "  Downloading graphviz-0.20.1-py3-none-any.whl (47 kB)\n",
            "\u001b[K     |████████████████████████████████| 47 kB 5.8 MB/s \n",
            "\u001b[?25hRequirement already satisfied: pandas in /usr/local/lib/python3.7/dist-packages (from dtreeviz) (1.3.5)\n",
            "Requirement already satisfied: numpy in /usr/local/lib/python3.7/dist-packages (from dtreeviz) (1.21.6)\n",
            "Requirement already satisfied: scikit-learn in /usr/local/lib/python3.7/dist-packages (from dtreeviz) (1.0.2)\n",
            "Requirement already satisfied: matplotlib in /usr/local/lib/python3.7/dist-packages (from dtreeviz) (3.2.2)\n",
            "Collecting colour\n",
            "  Downloading colour-0.1.5-py2.py3-none-any.whl (23 kB)\n",
            "Requirement already satisfied: pytest in /usr/local/lib/python3.7/dist-packages (from dtreeviz) (3.6.4)\n",
            "Requirement already satisfied: kiwisolver>=1.0.1 in /usr/local/lib/python3.7/dist-packages (from matplotlib->dtreeviz) (1.4.4)\n",
            "Requirement already satisfied: python-dateutil>=2.1 in /usr/local/lib/python3.7/dist-packages (from matplotlib->dtreeviz) (2.8.2)\n",
            "Requirement already satisfied: cycler>=0.10 in /usr/local/lib/python3.7/dist-packages (from matplotlib->dtreeviz) (0.11.0)\n",
            "Requirement already satisfied: pyparsing!=2.0.4,!=2.1.2,!=2.1.6,>=2.0.1 in /usr/local/lib/python3.7/dist-packages (from matplotlib->dtreeviz) (3.0.9)\n",
            "Requirement already satisfied: typing-extensions in /usr/local/lib/python3.7/dist-packages (from kiwisolver>=1.0.1->matplotlib->dtreeviz) (4.1.1)\n",
            "Requirement already satisfied: six>=1.5 in /usr/local/lib/python3.7/dist-packages (from python-dateutil>=2.1->matplotlib->dtreeviz) (1.15.0)\n",
            "Requirement already satisfied: pytz>=2017.3 in /usr/local/lib/python3.7/dist-packages (from pandas->dtreeviz) (2022.4)\n",
            "Requirement already satisfied: py>=1.5.0 in /usr/local/lib/python3.7/dist-packages (from pytest->dtreeviz) (1.11.0)\n",
            "Requirement already satisfied: more-itertools>=4.0.0 in /usr/local/lib/python3.7/dist-packages (from pytest->dtreeviz) (8.14.0)\n",
            "Requirement already satisfied: pluggy<0.8,>=0.5 in /usr/local/lib/python3.7/dist-packages (from pytest->dtreeviz) (0.7.1)\n",
            "Requirement already satisfied: attrs>=17.4.0 in /usr/local/lib/python3.7/dist-packages (from pytest->dtreeviz) (22.1.0)\n",
            "Requirement already satisfied: setuptools in /usr/local/lib/python3.7/dist-packages (from pytest->dtreeviz) (57.4.0)\n",
            "Requirement already satisfied: atomicwrites>=1.0 in /usr/local/lib/python3.7/dist-packages (from pytest->dtreeviz) (1.4.1)\n",
            "Requirement already satisfied: joblib>=0.11 in /usr/local/lib/python3.7/dist-packages (from scikit-learn->dtreeviz) (1.2.0)\n",
            "Requirement already satisfied: scipy>=1.1.0 in /usr/local/lib/python3.7/dist-packages (from scikit-learn->dtreeviz) (1.7.3)\n",
            "Requirement already satisfied: threadpoolctl>=2.0.0 in /usr/local/lib/python3.7/dist-packages (from scikit-learn->dtreeviz) (3.1.0)\n",
            "Building wheels for collected packages: dtreeviz\n",
            "  Building wheel for dtreeviz (setup.py) ... \u001b[?25l\u001b[?25hdone\n",
            "  Created wheel for dtreeviz: filename=dtreeviz-1.3.7-py3-none-any.whl size=68151 sha256=eb872c143340f3ffae210f1bae54e5a1b7b540f414004eb0049970fc11377608\n",
            "  Stored in directory: /root/.cache/pip/wheels/bf/ba/9f/87c689d8d3c2916793f2dccc57d3dc3b283e0ccf8cb4ca4cad\n",
            "Successfully built dtreeviz\n",
            "Installing collected packages: graphviz, colour, dtreeviz\n",
            "  Attempting uninstall: graphviz\n",
            "    Found existing installation: graphviz 0.5.1\n",
            "    Uninstalling graphviz-0.5.1:\n",
            "      Successfully uninstalled graphviz-0.5.1\n",
            "\u001b[31mERROR: pip's dependency resolver does not currently take into account all the packages that are installed. This behaviour is the source of the following dependency conflicts.\n",
            "neupy 0.8.2 requires graphviz==0.5.1, but you have graphviz 0.20.1 which is incompatible.\u001b[0m\n",
            "Successfully installed colour-0.1.5 dtreeviz-1.3.7 graphviz-0.20.1\n"
          ]
        },
        {
          "output_type": "display_data",
          "data": {
            "application/vnd.colab-display-data+json": {
              "pip_warning": {
                "packages": [
                  "graphviz"
                ]
              }
            }
          },
          "metadata": {}
        }
      ]
    },
    {
      "cell_type": "code",
      "source": [
        "import pandas as pd\n",
        "from matplotlib import pyplot as plt\n",
        "from sklearn.model_selection import train_test_split\n",
        "from sklearn.tree import DecisionTreeClassifier \n",
        "from sklearn.preprocessing import LabelEncoder\n",
        "from sklearn import tree\n",
        "plt.rcParams['figure.figsize'] = [16, 10]"
      ],
      "metadata": {
        "id": "R5oDpKwnmn07"
      },
      "execution_count": null,
      "outputs": []
    },
    {
      "cell_type": "code",
      "source": [
        "#criando diferentes arvores\n",
        "depth_range = range(2, 20)\n",
        "train_score = []\n",
        "valid_score = []\n",
        "\n",
        "for d in depth_range:\n",
        "    tree1 = DecisionTreeClassifier(criterion='entropy', max_depth=d, random_state = 10)\n",
        "    tree1.fit(X_train_cv, y_train_cv)\n",
        "    train_score.append(tree1.score(X_train_cv, y_train_cv))\n",
        "    valid_score.append(tree1.score(X_valid, y_valid))\n",
        "\n",
        "plt.plot(depth_range, train_score)\n",
        "plt.plot(depth_range, valid_score)\n",
        "plt.legend(('Treinamento', 'Validacao'),\n",
        "           loc='upper center', shadow=True)\n",
        "plt.xlabel('Máxima profundidade')\n",
        "plt.ylabel('Accuracy')\n",
        "plt.show()\n"
      ],
      "metadata": {
        "colab": {
          "base_uri": "https://localhost:8080/",
          "height": 513
        },
        "id": "BwudIrM2mr3o",
        "outputId": "251697d1-fa9f-4abc-c66c-5041946b0e38"
      },
      "execution_count": null,
      "outputs": [
        {
          "output_type": "display_data",
          "data": {
            "text/plain": [
              "<Figure size 1152x720 with 1 Axes>"
            ],
            "image/png": "[encoded data removed]"
          },
          "metadata": {
            "needs_background": "light"
          }
        }
      ]
    },
    {
      "cell_type": "code",
      "source": [
        "tree_final = DecisionTreeClassifier(criterion='entropy', max_depth=5, random_state = 10)\n",
        "tree_final.fit(X_train_cv, y_train_cv)\n",
        "\n",
        "print(\"Acuracia de treinamento da tree_final: %0.3f\" %  tree_final.score(X_train, y_train))\n",
        "print(\"Acuracia de validacao da tree_final: %0.3f\" %  tree_final.score(X_test, y_test))\n"
      ],
      "metadata": {
        "colab": {
          "base_uri": "https://localhost:8080/"
        },
        "id": "foggerg7m59N",
        "outputId": "7575d0ff-fab4-45b9-fa7e-ba0c0578c273"
      },
      "execution_count": null,
      "outputs": [
        {
          "output_type": "stream",
          "name": "stdout",
          "text": [
            "Acuracia de treinamento da tree_final: 1.000\n",
            "Acuracia de validacao da tree_final: 1.000\n"
          ]
        }
      ]
    },
    {
      "cell_type": "code",
      "source": [
        "dataframe= pandas.read_csv('/content/data.csv',sep=',')\n",
        "\n",
        "feat_names = list(dataframe.columns)\n",
        "class_names = dataframe['C_api'].unique().tolist()\n",
        "\n",
        "#apresentacao da arvore em texto\n",
        "text_representation = tree.export_text(tree_final, feature_names=feat_names[0:len(feat_names)-1])\n",
        "print(text_representation)\n",
        "\n",
        "#apresentacao usando o plot_tree\n",
        "fig = plt.figure(figsize=(25,20))\n",
        "_ = tree.plot_tree(tree_final, \n",
        "                   feature_names=feat_names,  \n",
        "                   class_names=class_names,\n",
        "                   filled=True)\n",
        "#para salvar a imagem\n",
        "fig.savefig(\"decistion_tree.png\")\n",
        "\n",
        "#utilizando o graphiz\n",
        "import graphviz\n",
        "# DOT data\n",
        "dot_data = tree.export_graphviz(tree_final, out_file=None, \n",
        "                                feature_names=feat_names[0:len(feat_names)-1],  \n",
        "                                class_names=class_names,\n",
        "                                filled=True)\n",
        "\n",
        "# # Draw graph\n",
        "# graph = graphviz.Source(dot_data, format=\"png\") \n",
        "# graph\n",
        "\n",
        "from dtreeviz.trees import dtreeviz # remember to load the package\n",
        "from sklearn.preprocessing import LabelEncoder\n",
        "viz = dtreeviz(tree_final, X_train, LabelEncoder().fit_transform(y_train),\n",
        "                target_name=\"target\",\n",
        "                feature_names=feat_names,\n",
        "                class_names=class_names)\n",
        "\n",
        "viz"
      ],
      "metadata": {
        "colab": {
          "base_uri": "https://localhost:8080/",
          "height": 1000
        },
        "id": "MMzlnNvInF20",
        "outputId": "968d8fa9-8933-4675-dca1-46692ef1b693"
      },
      "execution_count": null,
      "outputs": [
        {
          "output_type": "stream",
          "name": "stdout",
          "text": [
            "|--- NEds <= 0.00\n",
            "|   |--- NEds <= 0.00\n",
            "|   |   |--- weightIJ <= 0.36\n",
            "|   |   |   |--- weightIJ <= 0.13\n",
            "|   |   |   |   |--- class: 297.0\n",
            "|   |   |   |--- weightIJ >  0.13\n",
            "|   |   |   |   |--- class: 664.0\n",
            "|   |   |--- weightIJ >  0.36\n",
            "|   |   |   |--- E_Bpag <= 0.17\n",
            "|   |   |   |   |--- class: 1277.0\n",
            "|   |   |   |--- E_Bpag >  0.17\n",
            "|   |   |   |   |--- class: 1074.0\n",
            "|   |--- NEds >  0.00\n",
            "|   |   |--- E_Bpag <= 0.50\n",
            "|   |   |   |--- E_Bpag <= 0.17\n",
            "|   |   |   |   |--- class: 974.0\n",
            "|   |   |   |--- E_Bpag >  0.17\n",
            "|   |   |   |   |--- class: 994.0\n",
            "|   |   |--- E_Bpag >  0.50\n",
            "|   |   |   |--- weightIJ <= 0.27\n",
            "|   |   |   |   |--- class: 493.0\n",
            "|   |   |   |--- weightIJ >  0.27\n",
            "|   |   |   |   |--- class: 841.0\n",
            "|--- NEds >  0.00\n",
            "|   |--- weightIJ <= 0.37\n",
            "|   |   |--- weightIJ <= 0.30\n",
            "|   |   |   |--- NEds <= 0.01\n",
            "|   |   |   |   |--- class: 917.0\n",
            "|   |   |   |--- NEds >  0.01\n",
            "|   |   |   |   |--- class: 477.0\n",
            "|   |   |--- weightIJ >  0.30\n",
            "|   |   |   |--- E_NEds <= 0.83\n",
            "|   |   |   |   |--- class: 978.0\n",
            "|   |   |   |--- E_NEds >  0.83\n",
            "|   |   |   |   |--- class: 412.0\n",
            "|   |--- weightIJ >  0.37\n",
            "|   |   |--- weightIJ <= 0.48\n",
            "|   |   |   |--- E_NEds <= 0.83\n",
            "|   |   |   |   |--- class: 752.0\n",
            "|   |   |   |--- E_NEds >  0.83\n",
            "|   |   |   |   |--- class: 817.0\n",
            "|   |   |--- weightIJ >  0.48\n",
            "|   |   |   |--- weightIJ <= 0.64\n",
            "|   |   |   |   |--- class: 647.0\n",
            "|   |   |   |--- weightIJ >  0.64\n",
            "|   |   |   |   |--- class: 1596.0\n",
            "\n"
          ]
        },
        {
          "output_type": "error",
          "ename": "IndexError",
          "evalue": "ignored",
          "traceback": [
            "\u001b[0;31m---------------------------------------------------------------------------\u001b[0m",
            "\u001b[0;31mIndexError\u001b[0m                                Traceback (most recent call last)",
            "\u001b[0;32m<ipython-input-46-73cd43e69773>\u001b[0m in \u001b[0;36m<module>\u001b[0;34m\u001b[0m\n\u001b[1;32m     13\u001b[0m                    \u001b[0mfeature_names\u001b[0m\u001b[0;34m=\u001b[0m\u001b[0mfeat_names\u001b[0m\u001b[0;34m,\u001b[0m\u001b[0;34m\u001b[0m\u001b[0;34m\u001b[0m\u001b[0m\n\u001b[1;32m     14\u001b[0m                    \u001b[0mclass_names\u001b[0m\u001b[0;34m=\u001b[0m\u001b[0mclass_names\u001b[0m\u001b[0;34m,\u001b[0m\u001b[0;34m\u001b[0m\u001b[0;34m\u001b[0m\u001b[0m\n\u001b[0;32m---> 15\u001b[0;31m                    filled=True)\n\u001b[0m\u001b[1;32m     16\u001b[0m \u001b[0;31m#para salvar a imagem\u001b[0m\u001b[0;34m\u001b[0m\u001b[0;34m\u001b[0m\u001b[0;34m\u001b[0m\u001b[0m\n\u001b[1;32m     17\u001b[0m \u001b[0mfig\u001b[0m\u001b[0;34m.\u001b[0m\u001b[0msavefig\u001b[0m\u001b[0;34m(\u001b[0m\u001b[0;34m\"decistion_tree.png\"\u001b[0m\u001b[0;34m)\u001b[0m\u001b[0;34m\u001b[0m\u001b[0;34m\u001b[0m\u001b[0m\n",
            "\u001b[0;32m/usr/local/lib/python3.7/dist-packages/sklearn/tree/_export.py\u001b[0m in \u001b[0;36mplot_tree\u001b[0;34m(decision_tree, max_depth, feature_names, class_names, label, filled, impurity, node_ids, proportion, rounded, precision, ax, fontsize)\u001b[0m\n\u001b[1;32m    193\u001b[0m         \u001b[0mfontsize\u001b[0m\u001b[0;34m=\u001b[0m\u001b[0mfontsize\u001b[0m\u001b[0;34m,\u001b[0m\u001b[0;34m\u001b[0m\u001b[0;34m\u001b[0m\u001b[0m\n\u001b[1;32m    194\u001b[0m     )\n\u001b[0;32m--> 195\u001b[0;31m     \u001b[0;32mreturn\u001b[0m \u001b[0mexporter\u001b[0m\u001b[0;34m.\u001b[0m\u001b[0mexport\u001b[0m\u001b[0;34m(\u001b[0m\u001b[0mdecision_tree\u001b[0m\u001b[0;34m,\u001b[0m \u001b[0max\u001b[0m\u001b[0;34m=\u001b[0m\u001b[0max\u001b[0m\u001b[0;34m)\u001b[0m\u001b[0;34m\u001b[0m\u001b[0;34m\u001b[0m\u001b[0m\n\u001b[0m\u001b[1;32m    196\u001b[0m \u001b[0;34m\u001b[0m\u001b[0m\n\u001b[1;32m    197\u001b[0m \u001b[0;34m\u001b[0m\u001b[0m\n",
            "\u001b[0;32m/usr/local/lib/python3.7/dist-packages/sklearn/tree/_export.py\u001b[0m in \u001b[0;36mexport\u001b[0;34m(self, decision_tree, ax)\u001b[0m\n\u001b[1;32m    654\u001b[0m         \u001b[0max\u001b[0m\u001b[0;34m.\u001b[0m\u001b[0mclear\u001b[0m\u001b[0;34m(\u001b[0m\u001b[0;34m)\u001b[0m\u001b[0;34m\u001b[0m\u001b[0;34m\u001b[0m\u001b[0m\n\u001b[1;32m    655\u001b[0m         \u001b[0max\u001b[0m\u001b[0;34m.\u001b[0m\u001b[0mset_axis_off\u001b[0m\u001b[0;34m(\u001b[0m\u001b[0;34m)\u001b[0m\u001b[0;34m\u001b[0m\u001b[0;34m\u001b[0m\u001b[0m\n\u001b[0;32m--> 656\u001b[0;31m         \u001b[0mmy_tree\u001b[0m \u001b[0;34m=\u001b[0m \u001b[0mself\u001b[0m\u001b[0;34m.\u001b[0m\u001b[0m_make_tree\u001b[0m\u001b[0;34m(\u001b[0m\u001b[0;36m0\u001b[0m\u001b[0;34m,\u001b[0m \u001b[0mdecision_tree\u001b[0m\u001b[0;34m.\u001b[0m\u001b[0mtree_\u001b[0m\u001b[0;34m,\u001b[0m \u001b[0mdecision_tree\u001b[0m\u001b[0;34m.\u001b[0m\u001b[0mcriterion\u001b[0m\u001b[0;34m)\u001b[0m\u001b[0;34m\u001b[0m\u001b[0;34m\u001b[0m\u001b[0m\n\u001b[0m\u001b[1;32m    657\u001b[0m         \u001b[0mdraw_tree\u001b[0m \u001b[0;34m=\u001b[0m \u001b[0mbuchheim\u001b[0m\u001b[0;34m(\u001b[0m\u001b[0mmy_tree\u001b[0m\u001b[0;34m)\u001b[0m\u001b[0;34m\u001b[0m\u001b[0;34m\u001b[0m\u001b[0m\n\u001b[1;32m    658\u001b[0m \u001b[0;34m\u001b[0m\u001b[0m\n",
            "\u001b[0;32m/usr/local/lib/python3.7/dist-packages/sklearn/tree/_export.py\u001b[0m in \u001b[0;36m_make_tree\u001b[0;34m(self, node_id, et, criterion, depth)\u001b[0m\n\u001b[1;32m    630\u001b[0m         \u001b[0;31m# traverses _tree.Tree recursively, builds intermediate\u001b[0m\u001b[0;34m\u001b[0m\u001b[0;34m\u001b[0m\u001b[0;34m\u001b[0m\u001b[0m\n\u001b[1;32m    631\u001b[0m         \u001b[0;31m# \"_reingold_tilford.Tree\" object\u001b[0m\u001b[0;34m\u001b[0m\u001b[0;34m\u001b[0m\u001b[0;34m\u001b[0m\u001b[0m\n\u001b[0;32m--> 632\u001b[0;31m         \u001b[0mname\u001b[0m \u001b[0;34m=\u001b[0m \u001b[0mself\u001b[0m\u001b[0;34m.\u001b[0m\u001b[0mnode_to_str\u001b[0m\u001b[0;34m(\u001b[0m\u001b[0met\u001b[0m\u001b[0;34m,\u001b[0m \u001b[0mnode_id\u001b[0m\u001b[0;34m,\u001b[0m \u001b[0mcriterion\u001b[0m\u001b[0;34m=\u001b[0m\u001b[0mcriterion\u001b[0m\u001b[0;34m)\u001b[0m\u001b[0;34m\u001b[0m\u001b[0;34m\u001b[0m\u001b[0m\n\u001b[0m\u001b[1;32m    633\u001b[0m         if et.children_left[node_id] != _tree.TREE_LEAF and (\n\u001b[1;32m    634\u001b[0m             \u001b[0mself\u001b[0m\u001b[0;34m.\u001b[0m\u001b[0mmax_depth\u001b[0m \u001b[0;32mis\u001b[0m \u001b[0;32mNone\u001b[0m \u001b[0;32mor\u001b[0m \u001b[0mdepth\u001b[0m \u001b[0;34m<=\u001b[0m \u001b[0mself\u001b[0m\u001b[0;34m.\u001b[0m\u001b[0mmax_depth\u001b[0m\u001b[0;34m\u001b[0m\u001b[0;34m\u001b[0m\u001b[0m\n",
            "\u001b[0;32m/usr/local/lib/python3.7/dist-packages/sklearn/tree/_export.py\u001b[0m in \u001b[0;36mnode_to_str\u001b[0;34m(self, tree, node_id, criterion)\u001b[0m\n\u001b[1;32m    365\u001b[0m                 \u001b[0mnode_string\u001b[0m \u001b[0;34m+=\u001b[0m \u001b[0;34m\"class = \"\u001b[0m\u001b[0;34m\u001b[0m\u001b[0;34m\u001b[0m\u001b[0m\n\u001b[1;32m    366\u001b[0m             \u001b[0;32mif\u001b[0m \u001b[0mself\u001b[0m\u001b[0;34m.\u001b[0m\u001b[0mclass_names\u001b[0m \u001b[0;32mis\u001b[0m \u001b[0;32mnot\u001b[0m \u001b[0;32mTrue\u001b[0m\u001b[0;34m:\u001b[0m\u001b[0;34m\u001b[0m\u001b[0;34m\u001b[0m\u001b[0m\n\u001b[0;32m--> 367\u001b[0;31m                 \u001b[0mclass_name\u001b[0m \u001b[0;34m=\u001b[0m \u001b[0mself\u001b[0m\u001b[0;34m.\u001b[0m\u001b[0mclass_names\u001b[0m\u001b[0;34m[\u001b[0m\u001b[0mnp\u001b[0m\u001b[0;34m.\u001b[0m\u001b[0margmax\u001b[0m\u001b[0;34m(\u001b[0m\u001b[0mvalue\u001b[0m\u001b[0;34m)\u001b[0m\u001b[0;34m]\u001b[0m\u001b[0;34m\u001b[0m\u001b[0;34m\u001b[0m\u001b[0m\n\u001b[0m\u001b[1;32m    368\u001b[0m             \u001b[0;32melse\u001b[0m\u001b[0;34m:\u001b[0m\u001b[0;34m\u001b[0m\u001b[0;34m\u001b[0m\u001b[0m\n\u001b[1;32m    369\u001b[0m                 class_name = \"y%s%s%s\" % (\n",
            "\u001b[0;31mIndexError\u001b[0m: list index out of range"
          ]
        },
        {
          "output_type": "display_data",
          "data": {
            "text/plain": [
              "<Figure size 1800x1440 with 1 Axes>"
            ],
            "image/png": "[encoded data removed]"
          },
          "metadata": {
            "needs_background": "light"
          }
        }
      ]
    },
    {
      "cell_type": "markdown",
      "source": [
        "## **Método SVM** "
      ],
      "metadata": {
        "id": "kr-6QV7-q9Ji"
      }
    },
    {
      "cell_type": "code",
      "source": [
        "import pandas as pd\n",
        "from matplotlib import pyplot as plt\n",
        "from sklearn.model_selection import train_test_split\n",
        "from sklearn.svm import SVC\n",
        "from sklearn.preprocessing import MinMaxScaler\n",
        "from sklearn.model_selection import cross_val_score\n",
        "plt.rcParams['figure.figsize'] = [16, 10]"
      ],
      "metadata": {
        "id": "m6aApvZ4rHE8"
      },
      "execution_count": null,
      "outputs": []
    },
    {
      "cell_type": "code",
      "source": [
        "dataframe['gender']=dataframe['gender'].astype(float)\n",
        "dataframe['C_api']=dataframe['C_api'].replace({'unknown':0,'male':1,'female':2})\n",
        "dataframe.head(1)"
      ],
      "metadata": {
        "colab": {
          "base_uri": "https://localhost:8080/",
          "height": 174
        },
        "id": "OClFlpXqxGTx",
        "outputId": "46d4699d-156e-40ff-eb32-273322457133"
      },
      "execution_count": null,
      "outputs": [
        {
          "output_type": "execute_result",
          "data": {
            "text/plain": [
              "   gender  C_api  C_man  E_NEds  E_Bpag        firstDay         lastDay  NEds  \\\n",
              "0     1.0      1      1       2       2  20170527205915  20170721044501   543   \n",
              "\n",
              "   NDays  NActDays  ...  NPcreated  pagesWomen  wikiprojWomen  ns_user  \\\n",
              "0     56        43  ...          4           0              0       91   \n",
              "\n",
              "   ns_wikipedia  ns_talk  ns_userTalk  ns_content  weightIJ  NIJ  \n",
              "0            28        6           76         324  0.915024  978  \n",
              "\n",
              "[1 rows x 21 columns]"
            ],
            "text/html": [
              "\n",
              "  <div id=\"df-9cfa50e1-1840-4992-886c-c70427cf73dc\">\n",
              "    <div class=\"colab-df-container\">\n",
              "      <div>\n",
              "<style scoped>\n",
              "    .dataframe tbody tr th:only-of-type {\n",
              "        vertical-align: middle;\n",
              "    }\n",
              "\n",
              "    .dataframe tbody tr th {\n",
              "        vertical-align: top;\n",
              "    }\n",
              "\n",
              "    .dataframe thead th {\n",
              "        text-align: right;\n",
              "    }\n",
              "</style>\n",
              "<table border=\"1\" class=\"dataframe\">\n",
              "  <thead>\n",
              "    <tr style=\"text-align: right;\">\n",
              "      <th></th>\n",
              "      <th>gender</th>\n",
              "      <th>C_api</th>\n",
              "      <th>C_man</th>\n",
              "      <th>E_NEds</th>\n",
              "      <th>E_Bpag</th>\n",
              "      <th>firstDay</th>\n",
              "      <th>lastDay</th>\n",
              "      <th>NEds</th>\n",
              "      <th>NDays</th>\n",
              "      <th>NActDays</th>\n",
              "      <th>...</th>\n",
              "      <th>NPcreated</th>\n",
              "      <th>pagesWomen</th>\n",
              "      <th>wikiprojWomen</th>\n",
              "      <th>ns_user</th>\n",
              "      <th>ns_wikipedia</th>\n",
              "      <th>ns_talk</th>\n",
              "      <th>ns_userTalk</th>\n",
              "      <th>ns_content</th>\n",
              "      <th>weightIJ</th>\n",
              "      <th>NIJ</th>\n",
              "    </tr>\n",
              "  </thead>\n",
              "  <tbody>\n",
              "    <tr>\n",
              "      <th>0</th>\n",
              "      <td>1.0</td>\n",
              "      <td>1</td>\n",
              "      <td>1</td>\n",
              "      <td>2</td>\n",
              "      <td>2</td>\n",
              "      <td>20170527205915</td>\n",
              "      <td>20170721044501</td>\n",
              "      <td>543</td>\n",
              "      <td>56</td>\n",
              "      <td>43</td>\n",
              "      <td>...</td>\n",
              "      <td>4</td>\n",
              "      <td>0</td>\n",
              "      <td>0</td>\n",
              "      <td>91</td>\n",
              "      <td>28</td>\n",
              "      <td>6</td>\n",
              "      <td>76</td>\n",
              "      <td>324</td>\n",
              "      <td>0.915024</td>\n",
              "      <td>978</td>\n",
              "    </tr>\n",
              "  </tbody>\n",
              "</table>\n",
              "<p>1 rows × 21 columns</p>\n",
              "</div>\n",
              "      <button class=\"colab-df-convert\" onclick=\"convertToInteractive('df-9cfa50e1-1840-4992-886c-c70427cf73dc')\"\n",
              "              title=\"Convert this dataframe to an interactive table.\"\n",
              "              style=\"display:none;\">\n",
              "        \n",
              "  <svg xmlns=\"http://www.w3.org/2000/svg\" height=\"24px\"viewBox=\"0 0 24 24\"\n",
              "       width=\"24px\">\n",
              "    <path d=\"M0 0h24v24H0V0z\" fill=\"none\"/>\n",
              "    <path d=\"M18.56 5.44l.94 2.06.94-2.06 2.06-.94-2.06-.94-.94-2.06-.94 2.06-2.06.94zm-11 1L8.5 8.5l.94-2.06 2.06-.94-2.06-.94L8.5 2.5l-.94 2.06-2.06.94zm10 10l.94 2.06.94-2.06 2.06-.94-2.06-.94-.94-2.06-.94 2.06-2.06.94z\"/><path d=\"M17.41 7.96l-1.37-1.37c-.4-.4-.92-.59-1.43-.59-.52 0-1.04.2-1.43.59L10.3 9.45l-7.72 7.72c-.78.78-.78 2.05 0 2.83L4 21.41c.39.39.9.59 1.41.59.51 0 1.02-.2 1.41-.59l7.78-7.78 2.81-2.81c.8-.78.8-2.07 0-2.86zM5.41 20L4 18.59l7.72-7.72 1.47 1.35L5.41 20z\"/>\n",
              "  </svg>\n",
              "      </button>\n",
              "      \n",
              "  <style>\n",
              "    .colab-df-container {\n",
              "      display:flex;\n",
              "      flex-wrap:wrap;\n",
              "      gap: 12px;\n",
              "    }\n",
              "\n",
              "    .colab-df-convert {\n",
              "      background-color: #E8F0FE;\n",
              "      border: none;\n",
              "      border-radius: 50%;\n",
              "      cursor: pointer;\n",
              "      display: none;\n",
              "      fill: #1967D2;\n",
              "      height: 32px;\n",
              "      padding: 0 0 0 0;\n",
              "      width: 32px;\n",
              "    }\n",
              "\n",
              "    .colab-df-convert:hover {\n",
              "      background-color: #E2EBFA;\n",
              "      box-shadow: 0px 1px 2px rgba(60, 64, 67, 0.3), 0px 1px 3px 1px rgba(60, 64, 67, 0.15);\n",
              "      fill: #174EA6;\n",
              "    }\n",
              "\n",
              "    [theme=dark] .colab-df-convert {\n",
              "      background-color: #3B4455;\n",
              "      fill: #D2E3FC;\n",
              "    }\n",
              "\n",
              "    [theme=dark] .colab-df-convert:hover {\n",
              "      background-color: #434B5C;\n",
              "      box-shadow: 0px 1px 3px 1px rgba(0, 0, 0, 0.15);\n",
              "      filter: drop-shadow(0px 1px 2px rgba(0, 0, 0, 0.3));\n",
              "      fill: #FFFFFF;\n",
              "    }\n",
              "  </style>\n",
              "\n",
              "      <script>\n",
              "        const buttonEl =\n",
              "          document.querySelector('#df-9cfa50e1-1840-4992-886c-c70427cf73dc button.colab-df-convert');\n",
              "        buttonEl.style.display =\n",
              "          google.colab.kernel.accessAllowed ? 'block' : 'none';\n",
              "\n",
              "        async function convertToInteractive(key) {\n",
              "          const element = document.querySelector('#df-9cfa50e1-1840-4992-886c-c70427cf73dc');\n",
              "          const dataTable =\n",
              "            await google.colab.kernel.invokeFunction('convertToInteractive',\n",
              "                                                     [key], {});\n",
              "          if (!dataTable) return;\n",
              "\n",
              "          const docLinkHtml = 'Like what you see? Visit the ' +\n",
              "            '<a target=\"_blank\" href=https://colab.research.google.com/notebooks/data_table.ipynb>data table notebook</a>'\n",
              "            + ' to learn more about interactive tables.';\n",
              "          element.innerHTML = '';\n",
              "          dataTable['output_type'] = 'display_data';\n",
              "          await google.colab.output.renderOutput(dataTable, element);\n",
              "          const docLink = document.createElement('div');\n",
              "          docLink.innerHTML = docLinkHtml;\n",
              "          element.appendChild(docLink);\n",
              "        }\n",
              "      </script>\n",
              "    </div>\n",
              "  </div>\n",
              "  "
            ]
          },
          "metadata": {},
          "execution_count": 62
        }
      ]
    },
    {
      "cell_type": "code",
      "source": [
        "#divisao de dados atributos e classe\n",
        "X = dataframe.values[:, 0:dataframe.shape[1]-1] #caracteristicas\n",
        "Y = dataframe.values[:, dataframe.shape[1]-1] #classe"
      ],
      "metadata": {
        "id": "_vq4zZPTxZbt"
      },
      "execution_count": null,
      "outputs": []
    },
    {
      "cell_type": "code",
      "source": [
        "scaler = MinMaxScaler()\n",
        "X = scaler.fit_transform(X)\n",
        "#usando o metodo para fazer uma unica divisao dos dados\n",
        "X_train, X_test, y_train, y_test = train_test_split( X, Y, test_size = 0.7, random_state = 10)\n",
        "\n",
        "X_train_cv, X_valid, y_train_cv, y_valid = train_test_split(X_train, y_train, test_size = 0.25, random_state = 10)\n",
        "\n"
      ],
      "metadata": {
        "id": "PAA9WK_Cxh9f"
      },
      "execution_count": null,
      "outputs": []
    },
    {
      "cell_type": "code",
      "source": [
        "kernels_range = ['linear', 'poly', 'rbf', 'sigmoid']\n",
        "c_range =[0.1,1,10,100]\n",
        "\n",
        "\n",
        "# use iteration to caclulator different kernels in models, then return the average accuracy based on the cross validation\n",
        "for kernel in kernels_range:\n",
        "    k_scores_train = []\n",
        "    k_scores_valid = []\n",
        "    k_scores_cross = []\n",
        "\n",
        "    for c in c_range:\n",
        "        svc = SVC(C=c, random_state=10, kernel=kernel)\n",
        "        scores = cross_val_score(svc, X_train_cv, y_train_cv, cv=5, scoring='accuracy')\n",
        "        k_scores_cross.append(scores.mean())\n",
        "        svc.fit(X_train_cv, y_train_cv)\n",
        "        k_scores_train.append(svc.score(X_train_cv, y_train_cv))\n",
        "        k_scores_valid.append(svc.score(X_valid, y_valid))\n",
        "\n",
        "    # plot to see clearly\n",
        "    plt.plot(list(range(0,len(k_scores_cross))), k_scores_cross)\n",
        "    plt.plot(list(range(0,len(k_scores_train))), k_scores_train)\n",
        "    plt.plot(list(range(0,len(k_scores_valid))), k_scores_valid)\n",
        "    plt.title(f'{kernel}')\n",
        "    plt.legend(('Validacao cruzada', 'Treinamento', 'Validacao'),\n",
        "              loc='upper center', shadow=True)\n",
        "    plt.xlabel('Value of kernels for SVM')\n",
        "    plt.ylabel('Cross-Validated Accuracy')\n",
        "    plt.show()"
      ],
      "metadata": {
        "colab": {
          "base_uri": "https://localhost:8080/",
          "height": 1000
        },
        "id": "PQ4oX8OMxssF",
        "outputId": "5d425127-79b2-46be-f2da-c16c1ad66a68"
      },
      "execution_count": null,
      "outputs": [
        {
          "output_type": "display_data",
          "data": {
            "text/plain": [
              "<Figure size 1152x720 with 1 Axes>"
            ],
            "image/png": "[encoded data removed]"
          },
          "metadata": {
            "needs_background": "light"
          }
        },
        {
          "output_type": "display_data",
          "data": {
            "text/plain": [
              "<Figure size 1152x720 with 1 Axes>"
            ],
            "image/png": "[encoded data removed]"
          },
          "metadata": {
            "needs_background": "light"
          }
        },
        {
          "output_type": "display_data",
          "data": {
            "text/plain": [
              "<Figure size 1152x720 with 1 Axes>"
            ],
            "image/png": "[encoded data removed]"
          },
          "metadata": {
            "needs_background": "light"
          }
        },
        {
          "output_type": "display_data",
          "data": {
            "text/plain": [
              "<Figure size 1152x720 with 1 Axes>"
            ],
            "image/png": "[encoded data removed]"
          },
          "metadata": {
            "needs_background": "light"
          }
        }
      ]
    },
    {
      "cell_type": "code",
      "source": [
        "clf = SVC(C=100, random_state=10, kernel='linear')\n",
        "clf.fit(X_train, y_train)\n",
        "\n",
        "print(\"Acuracia de treinamento clf: %0.3f\" %  clf.score(X_train, y_train))\n",
        "print(\"Acuracia de teste clf: %0.3f\" %  clf.score(X_test, y_test))"
      ],
      "metadata": {
        "colab": {
          "base_uri": "https://localhost:8080/"
        },
        "id": "WcL9GS5ax4CA",
        "outputId": "a3254348-a602-4190-eba7-f4b164d7a63b"
      },
      "execution_count": null,
      "outputs": [
        {
          "output_type": "stream",
          "name": "stdout",
          "text": [
            "Acuracia de treinamento clf: 1.000\n",
            "Acuracia de teste clf: 1.000\n"
          ]
        }
      ]
    },
    {
      "cell_type": "markdown",
      "source": [
        "## **Método Random Forest** \n",
        "\n"
      ],
      "metadata": {
        "id": "PtJTGKeAySO8"
      }
    },
    {
      "cell_type": "code",
      "source": [
        "# Random Forest Classification\n",
        "import pandas as pd\n",
        "from sklearn import tree\n",
        "from sklearn import model_selection\n",
        "from sklearn.model_selection import train_test_split\n",
        "from sklearn.metrics import classification_report\n",
        "from sklearn.ensemble import RandomForestClassifier\n",
        "import matplotlib.pyplot as plt\n",
        "plt.rcParams['figure.figsize'] = [16, 10]"
      ],
      "metadata": {
        "id": "n48UoF7eyjpC"
      },
      "execution_count": null,
      "outputs": []
    },
    {
      "cell_type": "code",
      "source": [
        "dataframe = pandas.read_csv('/content/data.csv',sep=',')\n",
        "dataframe['gender']=dataframe['gender'].astype(float)\n",
        "dataframe['C_api']=dataframe['C_api'].replace({'unknown':0,'male':1,'female':2})\n",
        "#divisao de dados atributos e classe\n",
        "X = dataframe.values[:, 0:dataframe.shape[1]-1] #caracteristicas\n",
        "Y = dataframe.values[:, dataframe.shape[1]-1] #classe\n",
        "\n",
        "X_train, X_test, y_train, y_test = train_test_split(X, Y, test_size=0.70, random_state=10)\n",
        "\n",
        "X_train_cv, X_valid, y_train_cv, y_valid = train_test_split(X_train, y_train, test_size = 0.25, random_state = 10)"
      ],
      "metadata": {
        "id": "V3mZtk6Iyy1C"
      },
      "execution_count": null,
      "outputs": []
    },
    {
      "cell_type": "code",
      "source": [
        "num_trees_range = range(10, 101, 10)\n",
        "max_features = 8\n",
        "\n",
        "#numero de folds atraves do metodo k-fold\n",
        "kfold = model_selection.StratifiedKFold(n_splits=10)\n",
        "\n",
        "cross_scores = []\n",
        "train_scores = []\n",
        "valid_scores = []\n",
        "\n",
        "for num_trees in num_trees_range:\n",
        "    #criando o classificador Random Forest\n",
        "    model_rf = RandomForestClassifier(n_estimators=num_trees, max_features=max_features, random_state=10, max_depth=5)\n",
        "\n",
        "    #treinamento do Random Forest em dez folds\n",
        "    results = model_selection.cross_val_score(model_rf, X_train_cv, y_train_cv, cv=kfold)\n",
        "    model_rf = model_rf.fit(X_train_cv, y_train_cv)\n",
        "    cross_scores.append(results.mean())\n",
        "    train_scores.append(model_rf.score(X_train_cv, y_train_cv))\n",
        "    valid_scores.append(model_rf.score(X_valid, y_valid))\n"
      ],
      "metadata": {
        "id": "42Jqm-bezssj"
      },
      "execution_count": null,
      "outputs": []
    },
    {
      "cell_type": "code",
      "source": [
        "# plot to see clearly\n",
        "plt.plot(num_trees_range, cross_scores)\n",
        "plt.plot(num_trees_range, train_scores)\n",
        "plt.plot(num_trees_range, valid_scores)\n",
        "plt.legend(('Validacao cruzada', 'Treinamento', 'Validacao'),\n",
        "          loc='upper center', shadow=True)\n",
        "plt.xticks(num_trees_range, num_trees_range)\n",
        "plt.xlabel('Number of trees for Random Forest')\n",
        "plt.ylabel('Cross-Validated Accuracy')\n",
        "plt.show()"
      ],
      "metadata": {
        "colab": {
          "base_uri": "https://localhost:8080/",
          "height": 626
        },
        "id": "LSf9SXUy0RA5",
        "outputId": "779b2f5d-2a1a-4432-e85d-b21c8e7f3e59"
      },
      "execution_count": null,
      "outputs": [
        {
          "output_type": "display_data",
          "data": {
            "text/plain": [
              "<Figure size 1152x720 with 1 Axes>"
            ],
            "image/png": "[encoded data removed]"
          },
          "metadata": {
            "needs_background": "light"
          }
        }
      ]
    },
    {
      "cell_type": "code",
      "source": [
        "model_rf_final = RandomForestClassifier(n_estimators=60, max_features=max_features, random_state=10)\n",
        "model_rf_final = model_rf_final.fit(X_train, y_train)\n",
        "\n",
        "print(\"Treinamento: \", model_rf_final.score(X_train, y_train))\n",
        "print(\"Teste: \", model_rf_final.score(X_test,y_test))"
      ],
      "metadata": {
        "colab": {
          "base_uri": "https://localhost:8080/"
        },
        "id": "3QcmR8lR0arz",
        "outputId": "eb8a5fa9-efd7-4b49-d3fa-7745268166ce"
      },
      "execution_count": null,
      "outputs": [
        {
          "output_type": "stream",
          "name": "stdout",
          "text": [
            "Treinamento:  1.0\n",
            "Teste:  1.0\n"
          ]
        }
      ]
    },
    {
      "cell_type": "markdown",
      "source": [
        "## **Método Rede Neural** "
      ],
      "metadata": {
        "id": "ehW-Yti90oTb"
      }
    },
    {
      "cell_type": "code",
      "source": [],
      "metadata": {
        "id": "oeYdQdTx0yuR"
      },
      "execution_count": null,
      "outputs": []
    },
    {
      "cell_type": "markdown",
      "source": [
        "## **Método MLP** "
      ],
      "metadata": {
        "id": "ZQBuyDpO1CHw"
      }
    },
    {
      "cell_type": "code",
      "source": [],
      "metadata": {
        "id": "lGmk9FnP1OK8"
      },
      "execution_count": null,
      "outputs": []
    },
    {
      "cell_type": "markdown",
      "source": [
        "## **Método Comitê de Redes Neurais** "
      ],
      "metadata": {
        "id": "EyTcIkOH2a26"
      }
    },
    {
      "cell_type": "code",
      "source": [],
      "metadata": {
        "id": "URuI8c0C2l_j"
      },
      "execution_count": null,
      "outputs": []
    },
    {
      "cell_type": "markdown",
      "source": [
        "## **Método Comitê heterogêneo** "
      ],
      "metadata": {
        "id": "83TO8pFI2mno"
      }
    },
    {
      "cell_type": "code",
      "source": [
        "# Voting Ensemble for Classification\n",
        "import pandas as pd\n",
        "from sklearn.model_selection import StratifiedKFold, train_test_split, cross_val_score\n",
        "from sklearn.linear_model import LogisticRegression\n",
        "from sklearn.preprocessing import MinMaxScaler\n",
        "from sklearn.tree import DecisionTreeClassifier\n",
        "from sklearn.svm import SVC\n",
        "from sklearn import neighbors\n",
        "from sklearn.ensemble import VotingClassifier\n",
        "import warnings"
      ],
      "metadata": {
        "id": "iSSNRyh22uwZ"
      },
      "execution_count": null,
      "outputs": []
    },
    {
      "cell_type": "code",
      "source": [
        "dataframe = pandas.read_csv('/content/data.csv',sep=',')\n",
        "dataframe['gender']=dataframe['gender'].astype(float)\n",
        "dataframe['C_api']=dataframe['C_api'].replace({'unknown':0,'male':1,'female':2})\n",
        "#divisao de dados atributos e classe\n",
        "X = dataframe.values[:, 0:dataframe.shape[1]-1] #caracteristicas\n",
        "Y = dataframe.values[:, dataframe.shape[1]-1] #classe\n",
        "scaler = MinMaxScaler()\n",
        "X = scaler.fit_transform(X)\n",
        "X_train, X_test, y_train, y_test = train_test_split(X, Y, test_size=0.25, random_state=10)"
      ],
      "metadata": {
        "id": "i9FKEYAm26qp"
      },
      "execution_count": null,
      "outputs": []
    },
    {
      "cell_type": "code",
      "source": [
        "kfold = StratifiedKFold(n_splits=10)\n",
        "\n",
        "# create the sub models\n",
        "estimators = []\n",
        "model1 = neighbors.KNeighborsClassifier(n_neighbors=20)\n",
        "estimators.append(('knn', model1))\n",
        "\n",
        "model2 = DecisionTreeClassifier(criterion='entropy', max_depth=5, random_state = 10)\n",
        "estimators.append(('decision_tree', model2))\n",
        "\n",
        "model3 = SVC(C=100, random_state=10, kernel='poly')\n",
        "estimators.append(('svm', model3))\n",
        "\n",
        "# create the ensemble model\n",
        "ensemble = VotingClassifier(estimators)\n",
        "results = cross_val_score(ensemble, X_train, y_train, cv=kfold)\n",
        "print('cross validation score =', results.mean())\n",
        "\n",
        "ensemble.fit(X_train, y_train)\n",
        "\n",
        "print('test score =', ensemble.score(X_test, y_test))\n"
      ],
      "metadata": {
        "colab": {
          "base_uri": "https://localhost:8080/"
        },
        "id": "r_PsmSxm3XIs",
        "outputId": "54d9e595-10eb-49a7-9af8-54d232f03ce8"
      },
      "execution_count": null,
      "outputs": [
        {
          "output_type": "stream",
          "name": "stdout",
          "text": [
            "cross validation score = 1.0\n",
            "test score = 1.0\n"
          ]
        }
      ]
    },
    {
      "cell_type": "markdown",
      "source": [
        "# **COMPARANDO OS ALGORITMOS**"
      ],
      "metadata": {
        "id": "Dd30lmeq4NOV"
      }
    },
    {
      "cell_type": "code",
      "metadata": {
        "id": "OmV2E6IaenPY",
        "outputId": "d6bba3b9-d21f-41e5-a351-37cdc9e06d65",
        "colab": {
          "base_uri": "https://localhost:8080/",
          "height": 1000
        }
      },
      "source": [
        "# Compare Algorithms script\n",
        "\n",
        "#1. Definicao das bibliotecas\n",
        "import pandas\n",
        "import matplotlib.pyplot as plt\n",
        "import numpy as np\n",
        "from scipy import stats\n",
        "from sklearn import model_selection\n",
        "from sklearn.model_selection import RepeatedStratifiedKFold\n",
        "from sklearn.model_selection import RandomizedSearchCV\n",
        "from sklearn import tree\n",
        "from sklearn.metrics import classification_report\n",
        "from sklearn.metrics import confusion_matrix\n",
        "from sklearn.tree import DecisionTreeClassifier\n",
        "from sklearn.ensemble import RandomForestClassifier\n",
        "from sklearn.neural_network import MLPClassifier\n",
        "from sklearn.ensemble import BaggingClassifier\n",
        "from sklearn.svm import SVC\n",
        "from sklearn.model_selection import StratifiedKFold\n",
        "from sklearn.model_selection import train_test_split\n",
        "from warnings import filterwarnings\n",
        "filterwarnings('ignore')\n",
        "\n",
        "#2. Definicao da semente para geracao de numereos aleatorios\n",
        "#Intialise a random number generator\n",
        "# Set a seed value\n",
        "seed_value= 12321 \n",
        "# 1. Set 'PYTHONHASHSEED' environment variable at a fixed value\n",
        "import os\n",
        "os.environ['PYTHONHASHSEED']=str(seed_value)\n",
        "# 2. Set 'python' built-in pseudo-random generator at a fixed value\n",
        "import random\n",
        "random.seed(seed_value)\n",
        "# 3. Set `numpy` pseudo-random generator at a fixed value\n",
        "import numpy as np\n",
        "np.random.seed(seed_value)\n",
        "\n",
        "#3. Leitura dos dados\n",
        "#names = ['gender','C_man','E_NEds','E_Bpag','NEds','NDays','NActDays','NPages','NPcreated','pagesWomen','wikiprojWomen','ns_user','ns_wikipedia','ns_talk','ns_userTalk','ns_content','weightIJ','NIJ']\n",
        "#dataframe = pandas.read_csv(\"/content/base_excel - comp.csv\", names=names)\n",
        "\n",
        "#4. A analise exploratoria dos dados realizada em outro script\n",
        "\n",
        "#5. Preparacao dos dados conduzida em outro script\n",
        "print(\"Apresentando o shape dos dados (dimenssoes)\")\n",
        "print(dataframe.shape)\n",
        "array = dataframe.values\n",
        "X = array[:,0:20]\n",
        "Y = array[:,20]\n",
        "\n",
        "#6. Divisao da base de dados em treinamento, validacao e teste\n",
        "X_train, X_test, y_train, y_test = train_test_split(X, Y, random_state=seed_value)\n",
        "\n",
        "#X_train_p, X_valid, y_train_p, y_valid = train_test_split(X_train, y_train, random_state=seed)\n",
        "\n",
        "#7. Realizar busca com o gridsearch ou randonsearhc para encontrar os melhores parametros de cada modelo\n",
        "# define models\n",
        "decisionTree = DecisionTreeClassifier()\n",
        "svc = SVC()\n",
        "\n",
        "# define evaluation\n",
        "cv = model_selection.StratifiedKFold(n_splits=10)\n",
        "\n",
        "# define search space for decision tree\n",
        "space = dict()\n",
        "space['criterion'] = ['gini', 'entropy']\n",
        "space['min_samples_split'] = [2,3,5,7]\n",
        "space['max_depth'] = [3,5,6,7,9,11,13,15,17,19]\n",
        "space['min_samples_leaf'] = [2, 3]\n",
        "\n",
        "# defining parameter range for svm\n",
        "param_grid = {'C': [0.1, 1, 10,],\n",
        "              'gamma': [1, 0.1, 0.01, 0.001],\n",
        "              'kernel': ['rbf']}\n",
        "\n",
        "# define random search for decision tree\n",
        "search = RandomizedSearchCV(decisionTree, space, n_iter=50, scoring='accuracy', n_jobs=4, cv=cv)\n",
        "\n",
        "# execute search\n",
        "result_tree = search.fit(X_train, y_train)\n",
        "\n",
        "# summarize result for decision tree\n",
        "print('=========Random Search Results fro TREE==========')\n",
        "print('Best Score: %s' % result_tree.best_score_)\n",
        "print('Best Hyperparameters: %s' % result_tree.best_params_)\n",
        "\n",
        "# define random search for SVM\n",
        "search = RandomizedSearchCV(svc, param_grid, n_iter=10, scoring='accuracy', n_jobs=4, cv=cv, random_state=seed_value)\n",
        "\n",
        "# execute search\n",
        "result_svc = search.fit(X_train, y_train)\n",
        "\n",
        "# summarize result for SVM\n",
        "print('=========Random Search Results for SVM==========')\n",
        "print('Best Score: %s' % result_svc.best_score_)\n",
        "print('Best Hyperparameters: %s' % result_svc.best_params_)\n",
        "\n",
        "\n",
        "#8. Definicao dos modelos de classificacao com as melhores configuracoes\n",
        "# criacao dos modelos com os melhores parametros\n",
        "RFC = RandomForestClassifier(n_estimators=10,random_state=seed_value)\n",
        "svc = result_svc.best_estimator_\n",
        "DTC = result_tree.best_estimator_   #tree.DecisionTreeClassifier(criterion='entropy', random_state=seed)\n",
        "MLP = MLPClassifier(solver='lbfgs', alpha=1e-5, hidden_layer_sizes=(5,5), random_state=seed_value)\n",
        "BMLP = BaggingClassifier(base_estimator=MLP, n_estimators=10, random_state=seed_value)\n",
        "\n",
        "#adiciona os modelos em uma lista\n",
        "models = []\n",
        "models.append(('Arvore', DTC))\n",
        "models.append(('SVM', svc))\n",
        "models.append(('ComiteArvore', RFC))\n",
        "models.append(('RedeNeural', MLP))\n",
        "models.append(('ComiteRede', BMLP))\n",
        "# evaluate each model in turn\n",
        "results = []\n",
        "names = []\n",
        "#deficao da metrica a ser utilizada\n",
        "scoring = 'accuracy'\n",
        "\n",
        "#9. Definicao do modelo experimental\n",
        "#amostragem estratificada\n",
        "#kfold = cv\n",
        "\n",
        "#10 Execucao do modelo experimental\n",
        "#avaliacao de cada modelo nas amotragens estratificas\n",
        "print('\\nDesempenhos medios dos modelos:')\n",
        "for name, model in models:\n",
        "\tcv_results = model_selection.cross_val_score(model, X_train, y_train, cv=10, scoring=scoring)\n",
        "\tresults.append(cv_results)\n",
        "\tnames.append(name)\n",
        "\tmsg = \"%s: %f (%f)\" % (name, cv_results.mean(), cv_results.std())\n",
        "\tprint(msg)\n",
        "\n",
        "#11 Comparacao de modelos\n",
        "# Teste de hipotese analisando o p-value\n",
        "stat, p = stats.kruskal(results[0],results[1],results[2],results[3],results[4])\n",
        "alpha = 0.05\n",
        "if p > alpha:\n",
        "\tprint('\\nSame distributions (fail to reject H0)')\n",
        "else:\n",
        "\tprint('\\nDifferent distributions (reject H0)')\n",
        " \n",
        "print('\\nComparison stats', stat)\n",
        "\n",
        "print('Comparacao Arvore | SVM ->', stats.kruskal(results[0],results[1]))\n",
        "print('Comparacao Arvore | ComiteArvore ->', stats.kruskal(results[0],results[2]))\n",
        "print('Comparacao Arvore | RedeNeural ->',stats.kruskal(results[0],results[3]))\n",
        "print('Comparacao Arvore | CRNA ->',stats.kruskal(results[0],results[4]))\n",
        "print('Comparacao SVM | RedeNeural ->',stats.kruskal(results[2],results[3]))\n",
        "print('Comparacao SVM | ComiteRede ->',stats.kruskal(results[2],results[4]))\n",
        "print('Comparacao RedeNeural | ComiteRede ->',stats.kruskal(results[3],results[4]))\t\n",
        "\n",
        "#treinamento dos modelos no conjunto de treino completo (sem divisao de validacao)\n",
        "RFC.fit(X_train, y_train);\n",
        "svc.fit(X_train, y_train);\n",
        "DTC.fit(X_train, y_train);\n",
        "MLP.fit(X_train, y_train);\n",
        "BMLP.fit(X_train, y_train);\n",
        "\n",
        "#predicao de cada modelo para a base de teste\n",
        "Y_test_prediction_RFC = RFC.predict(X_test)\n",
        "Y_test_prediction_SVC = svc.predict(X_test)\n",
        "Y_test_prediction_DTC = DTC.predict(X_test)\n",
        "Y_test_prediction_MLP = MLP.predict(X_test)\n",
        "Y_test_prediction_BMLP = BMLP.predict(X_test)\n",
        "\n",
        "#12 Apresentacao de resultados\n",
        "print(\"\\nAcuracia Comite de Arvore: Treinamento\",  RFC.score(X_train, y_train),\" Teste\" ,RFC.score(X_test, y_test))\n",
        "print(\"Clasification report:\", classification_report(y_test, Y_test_prediction_RFC))\n",
        "print(\"Confussion matrix:\\n\", confusion_matrix(y_test, Y_test_prediction_RFC))\n",
        "\n",
        "print(\"\\nAcuracia SVC: Treinamento\",  svc.score(X_train, y_train),\" Teste\" ,svc.score(X_test, y_test))\n",
        "print(\"Clasification report:\", classification_report(y_test, Y_test_prediction_SVC))\n",
        "print(\"Confussion matrix:\\n\", confusion_matrix(y_test, Y_test_prediction_SVC))\n",
        "\n",
        "print(\"\\nAcuracia Arvore: Treinamento\",  DTC.score(X_train, y_train),\" Teste\" ,DTC.score(X_test, y_test))\n",
        "print(\"Clasification report:\", classification_report(y_test, Y_test_prediction_DTC))\n",
        "print(\"Confussion matrix:\\n\", confusion_matrix(y_test, Y_test_prediction_DTC))\n",
        "\n",
        "print(\"\\nAcuracia Rede Neural: Treinamento\",  MLP.score(X_train, y_train),\" Teste\" ,MLP.score(X_test, y_test))\n",
        "print(\"Clasification report:\", classification_report(y_test, Y_test_prediction_MLP))\n",
        "print(\"Confussion matrix:\\n\", confusion_matrix(y_test, Y_test_prediction_MLP))\n",
        "\n",
        "print(\"\\nAcuracia Comite RNA: Treinamento\",  BMLP.score(X_train, y_train),\" Teste\" ,BMLP.score(X_test, y_test))\n",
        "print(\"Clasification report:\", classification_report(y_test, Y_test_prediction_BMLP))\n",
        "print(\"Confussion matrix:\\n\", confusion_matrix(y_test, Y_test_prediction_BMLP))\n",
        "\n",
        "fig = plt.figure()\n",
        "fig.suptitle('Algorithm Comparison')\n",
        "ax = fig.add_subplot(111)\n",
        "plt.boxplot(results)\n",
        "ax.set_xticklabels(names)\n",
        "plt.show()\t\n"
      ],
      "execution_count": null,
      "outputs": [
        {
          "output_type": "stream",
          "name": "stdout",
          "text": [
            "Apresentando o shape dos dados (dimenssoes)\n",
            "(4746, 21)\n",
            "=========Random Search Results fro TREE==========\n",
            "Best Score: 1.0\n",
            "Best Hyperparameters: {'min_samples_split': 7, 'min_samples_leaf': 2, 'max_depth': 17, 'criterion': 'gini'}\n",
            "=========Random Search Results for SVM==========\n",
            "Best Score: 0.08457429973097008\n",
            "Best Hyperparameters: {'kernel': 'rbf', 'gamma': 1, 'C': 10}\n",
            "\n",
            "Desempenhos medios dos modelos:\n",
            "Arvore: 1.000000 (0.000000)\n",
            "SVM: 0.084574 (0.000838)\n",
            "ComiteArvore: 0.999438 (0.001124)\n",
            "RedeNeural: 0.056196 (0.000047)\n",
            "ComiteRede: 0.053667 (0.000839)\n",
            "\n",
            "Different distributions (reject H0)\n",
            "\n",
            "Comparison stats 47.35871836901956\n",
            "Comparacao Arvore | SVM -> KruskalResult(statistic=17.57631822386678, pvalue=2.760041810417523e-05)\n",
            "Comparacao Arvore | ComiteArvore -> KruskalResult(statistic=2.1111111111111036, pvalue=0.14623310699120676)\n",
            "Comparacao Arvore | RedeNeural -> KruskalResult(statistic=18.181818181818173, pvalue=2.0078656124264935e-05)\n",
            "Comparacao Arvore | CRNA -> KruskalResult(statistic=17.57631822386678, pvalue=2.760041810417523e-05)\n",
            "Comparacao SVM | RedeNeural -> KruskalResult(statistic=16.88888888888888, pvalue=3.9632903282907865e-05)\n",
            "Comparacao SVM | ComiteRede -> KruskalResult(statistic=16.36520241171403, pvalue=5.223547845797603e-05)\n",
            "Comparacao RedeNeural | ComiteRede -> KruskalResult(statistic=14.554949121184087, pvalue=0.0001361306056866721)\n",
            "\n",
            "Acuracia Comite de Arvore: Treinamento 1.0  Teste 1.0\n",
            "Clasification report:               precision    recall  f1-score   support\n",
            "\n",
            "       297.0       1.00      1.00      1.00        66\n",
            "       412.0       1.00      1.00      1.00        43\n",
            "       477.0       1.00      1.00      1.00        63\n",
            "       493.0       1.00      1.00      1.00        66\n",
            "       647.0       1.00      1.00      1.00        44\n",
            "       664.0       1.00      1.00      1.00        83\n",
            "       752.0       1.00      1.00      1.00        75\n",
            "       817.0       1.00      1.00      1.00        83\n",
            "       841.0       1.00      1.00      1.00        72\n",
            "       917.0       1.00      1.00      1.00       102\n",
            "       974.0       1.00      1.00      1.00        80\n",
            "       978.0       1.00      1.00      1.00        89\n",
            "       994.0       1.00      1.00      1.00        90\n",
            "      1074.0       1.00      1.00      1.00        90\n",
            "      1277.0       1.00      1.00      1.00        55\n",
            "      1596.0       1.00      1.00      1.00        86\n",
            "\n",
            "    accuracy                           1.00      1187\n",
            "   macro avg       1.00      1.00      1.00      1187\n",
            "weighted avg       1.00      1.00      1.00      1187\n",
            "\n",
            "Confussion matrix:\n",
            " [[ 66   0   0   0   0   0   0   0   0   0   0   0   0   0   0   0]\n",
            " [  0  43   0   0   0   0   0   0   0   0   0   0   0   0   0   0]\n",
            " [  0   0  63   0   0   0   0   0   0   0   0   0   0   0   0   0]\n",
            " [  0   0   0  66   0   0   0   0   0   0   0   0   0   0   0   0]\n",
            " [  0   0   0   0  44   0   0   0   0   0   0   0   0   0   0   0]\n",
            " [  0   0   0   0   0  83   0   0   0   0   0   0   0   0   0   0]\n",
            " [  0   0   0   0   0   0  75   0   0   0   0   0   0   0   0   0]\n",
            " [  0   0   0   0   0   0   0  83   0   0   0   0   0   0   0   0]\n",
            " [  0   0   0   0   0   0   0   0  72   0   0   0   0   0   0   0]\n",
            " [  0   0   0   0   0   0   0   0   0 102   0   0   0   0   0   0]\n",
            " [  0   0   0   0   0   0   0   0   0   0  80   0   0   0   0   0]\n",
            " [  0   0   0   0   0   0   0   0   0   0   0  89   0   0   0   0]\n",
            " [  0   0   0   0   0   0   0   0   0   0   0   0  90   0   0   0]\n",
            " [  0   0   0   0   0   0   0   0   0   0   0   0   0  90   0   0]\n",
            " [  0   0   0   0   0   0   0   0   0   0   0   0   0   0  55   0]\n",
            " [  0   0   0   0   0   0   0   0   0   0   0   0   0   0   0  86]]\n",
            "\n",
            "Acuracia SVC: Treinamento 0.9977521775779713  Teste 0.07245155855096883\n",
            "Clasification report:               precision    recall  f1-score   support\n",
            "\n",
            "       297.0       0.00      0.00      0.00        66\n",
            "       412.0       0.00      0.00      0.00        43\n",
            "       477.0       0.00      0.00      0.00        63\n",
            "       493.0       0.00      0.00      0.00        66\n",
            "       647.0       0.00      0.00      0.00        44\n",
            "       664.0       0.00      0.00      0.00        83\n",
            "       752.0       0.00      0.00      0.00        75\n",
            "       817.0       0.00      0.00      0.00        83\n",
            "       841.0       0.00      0.00      0.00        72\n",
            "       917.0       0.00      0.00      0.00       102\n",
            "       974.0       0.00      0.00      0.00        80\n",
            "       978.0       0.00      0.00      0.00        89\n",
            "       994.0       0.00      0.00      0.00        90\n",
            "      1074.0       0.00      0.00      0.00        90\n",
            "      1277.0       0.00      0.00      0.00        55\n",
            "      1596.0       0.07      1.00      0.14        86\n",
            "\n",
            "    accuracy                           0.07      1187\n",
            "   macro avg       0.00      0.06      0.01      1187\n",
            "weighted avg       0.01      0.07      0.01      1187\n",
            "\n",
            "Confussion matrix:\n",
            " [[  0   0   0   0   0   0   0   0   0   0   0   0   0   0   0  66]\n",
            " [  0   0   0   0   0   0   0   0   0   0   0   0   0   0   0  43]\n",
            " [  0   0   0   0   0   0   0   0   0   0   0   0   0   0   0  63]\n",
            " [  0   0   0   0   0   0   0   0   0   0   0   0   0   0   0  66]\n",
            " [  0   0   0   0   0   0   0   0   0   0   0   0   0   0   0  44]\n",
            " [  0   0   0   0   0   0   0   0   0   0   0   0   0   0   0  83]\n",
            " [  0   0   0   0   0   0   0   0   0   0   0   0   0   0   0  75]\n",
            " [  0   0   0   0   0   0   0   0   0   0   0   0   0   0   0  83]\n",
            " [  0   0   0   0   0   0   0   0   0   0   0   0   0   0   0  72]\n",
            " [  0   0   0   0   0   0   0   0   0   0   0   0   0   0   0 102]\n",
            " [  0   0   0   0   0   0   0   0   0   0   0   0   0   0   0  80]\n",
            " [  0   0   0   0   0   0   0   0   0   0   0   0   0   0   0  89]\n",
            " [  0   0   0   0   0   0   0   0   0   0   0   0   0   0   0  90]\n",
            " [  0   0   0   0   0   0   0   0   0   0   0   0   0   0   0  90]\n",
            " [  0   0   0   0   0   0   0   0   0   0   0   0   0   0   0  55]\n",
            " [  0   0   0   0   0   0   0   0   0   0   0   0   0   0   0  86]]\n",
            "\n",
            "Acuracia Arvore: Treinamento 1.0  Teste 1.0\n",
            "Clasification report:               precision    recall  f1-score   support\n",
            "\n",
            "       297.0       1.00      1.00      1.00        66\n",
            "       412.0       1.00      1.00      1.00        43\n",
            "       477.0       1.00      1.00      1.00        63\n",
            "       493.0       1.00      1.00      1.00        66\n",
            "       647.0       1.00      1.00      1.00        44\n",
            "       664.0       1.00      1.00      1.00        83\n",
            "       752.0       1.00      1.00      1.00        75\n",
            "       817.0       1.00      1.00      1.00        83\n",
            "       841.0       1.00      1.00      1.00        72\n",
            "       917.0       1.00      1.00      1.00       102\n",
            "       974.0       1.00      1.00      1.00        80\n",
            "       978.0       1.00      1.00      1.00        89\n",
            "       994.0       1.00      1.00      1.00        90\n",
            "      1074.0       1.00      1.00      1.00        90\n",
            "      1277.0       1.00      1.00      1.00        55\n",
            "      1596.0       1.00      1.00      1.00        86\n",
            "\n",
            "    accuracy                           1.00      1187\n",
            "   macro avg       1.00      1.00      1.00      1187\n",
            "weighted avg       1.00      1.00      1.00      1187\n",
            "\n",
            "Confussion matrix:\n",
            " [[ 66   0   0   0   0   0   0   0   0   0   0   0   0   0   0   0]\n",
            " [  0  43   0   0   0   0   0   0   0   0   0   0   0   0   0   0]\n",
            " [  0   0  63   0   0   0   0   0   0   0   0   0   0   0   0   0]\n",
            " [  0   0   0  66   0   0   0   0   0   0   0   0   0   0   0   0]\n",
            " [  0   0   0   0  44   0   0   0   0   0   0   0   0   0   0   0]\n",
            " [  0   0   0   0   0  83   0   0   0   0   0   0   0   0   0   0]\n",
            " [  0   0   0   0   0   0  75   0   0   0   0   0   0   0   0   0]\n",
            " [  0   0   0   0   0   0   0  83   0   0   0   0   0   0   0   0]\n",
            " [  0   0   0   0   0   0   0   0  72   0   0   0   0   0   0   0]\n",
            " [  0   0   0   0   0   0   0   0   0 102   0   0   0   0   0   0]\n",
            " [  0   0   0   0   0   0   0   0   0   0  80   0   0   0   0   0]\n",
            " [  0   0   0   0   0   0   0   0   0   0   0  89   0   0   0   0]\n",
            " [  0   0   0   0   0   0   0   0   0   0   0   0  90   0   0   0]\n",
            " [  0   0   0   0   0   0   0   0   0   0   0   0   0  90   0   0]\n",
            " [  0   0   0   0   0   0   0   0   0   0   0   0   0   0  55   0]\n",
            " [  0   0   0   0   0   0   0   0   0   0   0   0   0   0   0  86]]\n",
            "\n",
            "Acuracia Rede Neural: Treinamento 0.05619556055071649  Teste 0.06318449873631002\n",
            "Clasification report:               precision    recall  f1-score   support\n",
            "\n",
            "       297.0       0.00      0.00      0.00        66\n",
            "       412.0       0.00      0.00      0.00        43\n",
            "       477.0       0.00      0.00      0.00        63\n",
            "       493.0       0.00      0.00      0.00        66\n",
            "       647.0       0.00      0.00      0.00        44\n",
            "       664.0       0.00      0.00      0.00        83\n",
            "       752.0       0.06      1.00      0.12        75\n",
            "       817.0       0.00      0.00      0.00        83\n",
            "       841.0       0.00      0.00      0.00        72\n",
            "       917.0       0.00      0.00      0.00       102\n",
            "       974.0       0.00      0.00      0.00        80\n",
            "       978.0       0.00      0.00      0.00        89\n",
            "       994.0       0.00      0.00      0.00        90\n",
            "      1074.0       0.00      0.00      0.00        90\n",
            "      1277.0       0.00      0.00      0.00        55\n",
            "      1596.0       0.00      0.00      0.00        86\n",
            "\n",
            "    accuracy                           0.06      1187\n",
            "   macro avg       0.00      0.06      0.01      1187\n",
            "weighted avg       0.00      0.06      0.01      1187\n",
            "\n",
            "Confussion matrix:\n",
            " [[  0   0   0   0   0   0  66   0   0   0   0   0   0   0   0   0]\n",
            " [  0   0   0   0   0   0  43   0   0   0   0   0   0   0   0   0]\n",
            " [  0   0   0   0   0   0  63   0   0   0   0   0   0   0   0   0]\n",
            " [  0   0   0   0   0   0  66   0   0   0   0   0   0   0   0   0]\n",
            " [  0   0   0   0   0   0  44   0   0   0   0   0   0   0   0   0]\n",
            " [  0   0   0   0   0   0  83   0   0   0   0   0   0   0   0   0]\n",
            " [  0   0   0   0   0   0  75   0   0   0   0   0   0   0   0   0]\n",
            " [  0   0   0   0   0   0  83   0   0   0   0   0   0   0   0   0]\n",
            " [  0   0   0   0   0   0  72   0   0   0   0   0   0   0   0   0]\n",
            " [  0   0   0   0   0   0 102   0   0   0   0   0   0   0   0   0]\n",
            " [  0   0   0   0   0   0  80   0   0   0   0   0   0   0   0   0]\n",
            " [  0   0   0   0   0   0  89   0   0   0   0   0   0   0   0   0]\n",
            " [  0   0   0   0   0   0  90   0   0   0   0   0   0   0   0   0]\n",
            " [  0   0   0   0   0   0  90   0   0   0   0   0   0   0   0   0]\n",
            " [  0   0   0   0   0   0  55   0   0   0   0   0   0   0   0   0]\n",
            " [  0   0   0   0   0   0  86   0   0   0   0   0   0   0   0   0]]\n",
            "\n",
            "Acuracia Comite RNA: Treinamento 0.05366676032593425  Teste 0.06739679865206402\n",
            "Clasification report:               precision    recall  f1-score   support\n",
            "\n",
            "       297.0       0.00      0.00      0.00        66\n",
            "       412.0       0.00      0.00      0.00        43\n",
            "       477.0       0.00      0.00      0.00        63\n",
            "       493.0       0.00      0.00      0.00        66\n",
            "       647.0       0.00      0.00      0.00        44\n",
            "       664.0       0.00      0.00      0.00        83\n",
            "       752.0       0.00      0.00      0.00        75\n",
            "       817.0       0.00      0.00      0.00        83\n",
            "       841.0       0.00      0.00      0.00        72\n",
            "       917.0       0.00      0.00      0.00       102\n",
            "       974.0       0.07      1.00      0.13        80\n",
            "       978.0       0.00      0.00      0.00        89\n",
            "       994.0       0.00      0.00      0.00        90\n",
            "      1074.0       0.00      0.00      0.00        90\n",
            "      1277.0       0.00      0.00      0.00        55\n",
            "      1596.0       0.00      0.00      0.00        86\n",
            "\n",
            "    accuracy                           0.07      1187\n",
            "   macro avg       0.00      0.06      0.01      1187\n",
            "weighted avg       0.00      0.07      0.01      1187\n",
            "\n",
            "Confussion matrix:\n",
            " [[  0   0   0   0   0   0   0   0   0   0  66   0   0   0   0   0]\n",
            " [  0   0   0   0   0   0   0   0   0   0  43   0   0   0   0   0]\n",
            " [  0   0   0   0   0   0   0   0   0   0  63   0   0   0   0   0]\n",
            " [  0   0   0   0   0   0   0   0   0   0  66   0   0   0   0   0]\n",
            " [  0   0   0   0   0   0   0   0   0   0  44   0   0   0   0   0]\n",
            " [  0   0   0   0   0   0   0   0   0   0  83   0   0   0   0   0]\n",
            " [  0   0   0   0   0   0   0   0   0   0  75   0   0   0   0   0]\n",
            " [  0   0   0   0   0   0   0   0   0   0  83   0   0   0   0   0]\n",
            " [  0   0   0   0   0   0   0   0   0   0  72   0   0   0   0   0]\n",
            " [  0   0   0   0   0   0   0   0   0   0 102   0   0   0   0   0]\n",
            " [  0   0   0   0   0   0   0   0   0   0  80   0   0   0   0   0]\n",
            " [  0   0   0   0   0   0   0   0   0   0  89   0   0   0   0   0]\n",
            " [  0   0   0   0   0   0   0   0   0   0  90   0   0   0   0   0]\n",
            " [  0   0   0   0   0   0   0   0   0   0  90   0   0   0   0   0]\n",
            " [  0   0   0   0   0   0   0   0   0   0  55   0   0   0   0   0]\n",
            " [  0   0   0   0   0   0   0   0   0   0  86   0   0   0   0   0]]\n"
          ]
        },
        {
          "output_type": "display_data",
          "data": {
            "text/plain": [
              "<Figure size 1152x720 with 1 Axes>"
            ],
            "image/png": "[encoded data removed]"
          },
          "metadata": {
            "needs_background": "light"
          }
        }
      ]
    },
    {
      "cell_type": "code",
      "metadata": {
        "id": "S-zog1U9EwyU",
        "colab": {
          "base_uri": "https://localhost:8080/",
          "height": 171
        },
        "outputId": "30a6c6f6-4099-45b6-a3cc-d54b94c08c6f"
      },
      "source": [
        "print(result.best_estimator_)"
      ],
      "execution_count": null,
      "outputs": [
        {
          "output_type": "error",
          "ename": "NameError",
          "evalue": "ignored",
          "traceback": [
            "\u001b[0;31m---------------------------------------------------------------------------\u001b[0m",
            "\u001b[0;31mNameError\u001b[0m                                 Traceback (most recent call last)",
            "\u001b[0;32m<ipython-input-81-a67f0b34b2d1>\u001b[0m in \u001b[0;36m<module>\u001b[0;34m\u001b[0m\n\u001b[0;32m----> 1\u001b[0;31m \u001b[0mprint\u001b[0m\u001b[0;34m(\u001b[0m\u001b[0mresult\u001b[0m\u001b[0;34m.\u001b[0m\u001b[0mbest_estimator_\u001b[0m\u001b[0;34m)\u001b[0m\u001b[0;34m\u001b[0m\u001b[0;34m\u001b[0m\u001b[0m\n\u001b[0m",
            "\u001b[0;31mNameError\u001b[0m: name 'result' is not defined"
          ]
        }
      ]
    },
    {
      "cell_type": "code",
      "metadata": {
        "colab": {
          "base_uri": "https://localhost:8080/"
        },
        "id": "8UWv5CGPhD_h",
        "outputId": "6b166650-86ac-4ffc-e468-e1d9b049f4e9"
      },
      "source": [
        "# Significance stats tests\n",
        "from numpy.random import seed\n",
        "from numpy.random import randn\n",
        "from scipy.stats import mannwhitneyu\n",
        "from scipy.stats import friedmanchisquare\n",
        "from scipy.stats import kruskal\n",
        "from scipy.stats import wilcoxon\n",
        "# seed the random number generator\n",
        "seed(1)\n",
        "# generate three independent samples\n",
        "data1 = 5 * randn(100) + 50\n",
        "data2 = 5 * randn(100) + 50\n",
        "data3 = 5 * randn(100) + 52\n",
        "\n",
        "# compare samples\n",
        "stat, p = mannwhitneyu(data1, data2)\n",
        "print('Mann-Whitney Statistic: s=%.3f, p=%.3f' % (stat, p))\n",
        "# interpret\n",
        "alpha = 0.05\n",
        "if p > alpha:\n",
        "\tprint('Same distributions (fail to reject H0)')\n",
        "else:\n",
        "\tprint('Different distributions (reject H0)')\n",
        "\n",
        "stat, p = wilcoxon(data1, data2)\n",
        "print('Wilcoxon Statistic: s=%.3f, p=%.3f' % (stat, p))\n",
        "# interpret\n",
        "alpha = 0.05\n",
        "if p > alpha:\n",
        "\tprint('Same distributions (fail to reject H0)')\n",
        "else:\n",
        "\tprint('Different distributions (reject H0)')\n",
        "\n",
        "stat, p = kruskal(data1, data2, data3)\n",
        "print('Kruskal-Wallis Statistic: s=%.3f, p=%.3f' % (stat, p))\n",
        "# interpret\n",
        "alpha = 0.05\n",
        "if p > alpha:\n",
        "\tprint('Same distributions (fail to reject H0)')\n",
        "else:\n",
        "\tprint('Different distributions (reject H0)')\n",
        "\n",
        "stat, p = friedmanchisquare(data1, data2, data3)\n",
        "print('Friedman Statistic: s=%.3f, p=%.3f' % (stat, p))\n",
        "# interpret\n",
        "alpha = 0.05\n",
        "if p > alpha:\n",
        "\tprint('Same distributions (fail to reject H0)')\n",
        "else:\n",
        "\tprint('Different distributions (reject H0)')"
      ],
      "execution_count": null,
      "outputs": [
        {
          "output_type": "stream",
          "name": "stdout",
          "text": [
            "Mann-Whitney Statistic: s=4597.000, p=0.163\n",
            "Same distributions (fail to reject H0)\n",
            "Wilcoxon Statistic: s=2314.000, p=0.468\n",
            "Same distributions (fail to reject H0)\n",
            "Kruskal-Wallis Statistic: s=0.970, p=0.325\n",
            "Same distributions (fail to reject H0)\n",
            "Friedman Statistic: s=9.360, p=0.009\n",
            "Different distributions (reject H0)\n"
          ]
        }
      ]
    },
    {
      "cell_type": "code",
      "metadata": {
        "id": "p21shpaFfTsv"
      },
      "source": [
        "# random search decision tree model on the pima-diabetes dataset\n",
        "from pandas import read_csv\n",
        "from sklearn.tree import DecisionTreeClassifier\n",
        "from sklearn.model_selection import RepeatedStratifiedKFold\n",
        "from sklearn.model_selection import RandomizedSearchCV\n",
        "from sklearn.model_selection import GridSearchCV\n",
        "\n",
        "#Leitura dos dados\n",
        "names = ['preg', 'plas', 'pres', 'skin', 'test', 'mass', 'pedi', 'age', 'class']\n",
        "dataframe = read_csv(\"pima-indians-diabetes.csv\", names=names)\n",
        "\n",
        "#Preparacao dos dados conduzida em outro script\n",
        "print(\"Apresentando o shape dos dados (dimenssoes)\")\n",
        "print(dataframe.shape)\n",
        "array = dataframe.values\n",
        "X = array[:,0:8]\n",
        "y = array[:,8]\n",
        "\n",
        "# define model\n",
        "model = DecisionTreeClassifier()\n",
        "\n",
        "# define evaluation\n",
        "cv = RepeatedStratifiedKFold(n_splits=10, n_repeats=3, random_state=1)\n",
        "\n",
        "# define search space\n",
        "space = dict()\n",
        "space['criterion'] = ['gini', 'entropy']\n",
        "space['min_samples_split'] = [2,3,5,7]\n",
        "space['max_depth'] = [3,5,6,7,9,11,13,15,17,19]\n",
        "space['min_samples_leaf'] = [2, 3]\n",
        "\n",
        "# define random search\n",
        "search = RandomizedSearchCV(model, space, n_iter=20, scoring='accuracy', n_jobs=-1, cv=cv, random_state=1)\n",
        "\n",
        "# execute search\n",
        "result = search.fit(X, y)\n",
        "\n",
        "# summarize result\n",
        "print('=========Random Search Results==========')\n",
        "print('Best Score: %s' % result.best_score_)\n",
        "print('Best Hyperparameters: %s' % result.best_params_)\n",
        "\n",
        "# define grid search\n",
        "search = GridSearchCV(model, space, scoring='accuracy', n_jobs=-1, cv=cv)\n",
        "\n",
        "# execute search\n",
        "result = search.fit(X, y)\n",
        "\n",
        "print('=========Grid Search Results==========')\n",
        "print('Best Score: %s' % result.best_score_)\n",
        "print('Best Hyperparameters: %s' % result.best_params_)\n",
        "\n"
      ],
      "execution_count": null,
      "outputs": []
    },
    {
      "cell_type": "code",
      "metadata": {
        "id": "MI8dzY9yuM4G"
      },
      "source": [
        "print(result.best_estimator_)"
      ],
      "execution_count": null,
      "outputs": []
    }
  ]
}